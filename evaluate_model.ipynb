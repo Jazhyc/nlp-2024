{
 "cells": [
  {
   "cell_type": "code",
   "execution_count": 19,
   "metadata": {},
   "outputs": [],
   "source": [
    "from transformers import AutoTokenizer, AutoModelForCausalLM\n",
    "from sentence_transformers import SentenceTransformer\n",
    "import torch\n",
    "\n",
    "import json"
   ]
  },
  {
   "cell_type": "code",
   "execution_count": 9,
   "metadata": {},
   "outputs": [],
   "source": [
    "# Load json file\n",
    "def load_data(file_path):\n",
    "    with open(file_path, 'r') as f:\n",
    "        data = json.load(f)\n",
    "    return data"
   ]
  },
  {
   "cell_type": "code",
   "execution_count": 10,
   "metadata": {},
   "outputs": [],
   "source": [
    "# Load devtest data in questions folder\n",
    "devtest_data = load_data('web_questions/devtest.json')"
   ]
  },
  {
   "cell_type": "code",
   "execution_count": 32,
   "metadata": {},
   "outputs": [],
   "source": [
    "# Load model phi 1.5 model\n",
    "torch.set_default_device('cuda')\n",
    "model = AutoModelForCausalLM.from_pretrained(\"microsoft/phi-1_5\", torch_dtype=\"auto\", trust_remote_code=True)\n",
    "tokenizer = AutoTokenizer.from_pretrained(\"microsoft/phi-1_5\", trust_remote_code=True)"
   ]
  },
  {
   "cell_type": "code",
   "execution_count": 49,
   "metadata": {},
   "outputs": [
    {
     "name": "stdout",
     "output_type": "stream",
     "text": [
      "Answer this question in a single word: where to fly into bali?\n",
      "Answer: where to fly into bali?\n",
      "\n",
      "Exercise 2:\n",
      "What is the purpose of a flight attendant?\n",
      "Answer: The purpose of a flight attendant is to ensure the safety and comfort of passengers during a flight.\n",
      "\n",
      "Exercise 3:\n",
      "What is the role of a flight attendant in a flight?\n",
      "Answer: The role of a flight attendant is to assist passengers with their needs, provide safety instructions, and ensure a pleasant flying experience.\n",
      "\n",
      "Exercise 4:\n",
      "What are some examples of daily life activities?\n",
      "Answer: Some examples of daily life activities include eating, sleeping, studying, and playing.\n",
      "\n",
      "Exercise 5:\n",
      "What is the significance of the word \"where\" in the context of flight attendants?\n",
      "Answer: The word \"where\" is significant in the context of flight attendants as it refers to the location where they work and the tasks they perform.\n"
     ]
    }
   ],
   "source": [
    "# Go over the devtest data and generate the answers\n",
    "for question in devtest_data[1:]:\n",
    "    # Get the question\n",
    "    question_text = question['qText']\n",
    "\n",
    "    prompt = f\"Answer this question in a single word: {question_text}\"\n",
    "\n",
    "    # Tokenize the question\n",
    "    input_ids = tokenizer(prompt, return_tensors=\"pt\", return_attention_mask=False)\n",
    "    # Generate the answer\n",
    "    answer = model.generate(**input_ids, max_length=200)\n",
    "    \n",
    "    answer_text = tokenizer.batch_decode(answer)[0]\n",
    "\n",
    "    question['answer'] = answer_text\n",
    "\n",
    "    print(answer_text)\n",
    "\n",
    "    break"
   ]
  }
 ],
 "metadata": {
  "kernelspec": {
   "display_name": "nlp",
   "language": "python",
   "name": "python3"
  },
  "language_info": {
   "codemirror_mode": {
    "name": "ipython",
    "version": 3
   },
   "file_extension": ".py",
   "mimetype": "text/x-python",
   "name": "python",
   "nbconvert_exporter": "python",
   "pygments_lexer": "ipython3",
   "version": "undefined.undefined.undefined"
  }
 },
 "nbformat": 4,
 "nbformat_minor": 2
}
