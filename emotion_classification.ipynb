{
  "cells": [
    {
      "cell_type": "markdown",
      "metadata": {
        "id": "fG4arWHyOmYa"
      },
      "source": [
        "# Emotion Classification with the WASSA-2022 emotion dataset\n",
        "\n",
        "In this notebook, we will use a state of the art technique from [AdityaPatkar](https://aclanthology.org/2023.wassa-1.46/) to perform emotion classification using the WASSA 2022 emotion dataset. The authors utilize a fine-tuned RoBERTa model and achieved state of the art performance through the usage of feature engineering and techniques to address overfitting. We will attempt to replicate their results using a similar approach.\n",
        "\n",
        "Transformers like RoBERTa are a type of neural network that is designed to understand and generate human language. They are trained on a large corpus of text and can be fine-tuned to perform a variety of natural language processing tasks, such as text classification, named entity recognition, and question answering. By fine-tuning a pre-trained transformer model, we can leverage the knowledge it has gained from its pre-training on a large corpus of text to perform a specific task, such as emotion classification."
      ]
    },
    {
      "cell_type": "markdown",
      "metadata": {
        "id": "KeCfVM6POmYb"
      },
      "source": [
        "## Imports and Constants"
      ]
    },
    {
      "cell_type": "code",
      "execution_count": 1,
      "metadata": {
        "id": "uBSBk9lVOmYc"
      },
      "outputs": [],
      "source": [
        "import transformers\n",
        "import torch\n",
        "\n",
        "import pandas as pd\n",
        "import seaborn as sns\n",
        "import matplotlib.pyplot as plt\n",
        "import itertools\n",
        "\n",
        "from tqdm.notebook import tqdm\n",
        "from torch.utils.data import DataLoader, Dataset\n",
        "from torch.nn.utils.rnn import pad_sequence\n",
        "from transformers import AutoTokenizer, AutoModelForSequenceClassification\n",
        "from sklearn.model_selection import train_test_split\n",
        "from sklearn.metrics import f1_score, precision_score, recall_score, confusion_matrix, accuracy_score\n",
        "from functools import partial\n",
        "\n",
        "# Constant value due to memory constraints\n",
        "# Should roughly fit in Batch size/2 GBs of VRAM with our implementation\n",
        "BATCH_SIZE = 32"
      ]
    },
    {
      "cell_type": "markdown",
      "metadata": {
        "id": "POkJvaUHOmYc"
      },
      "source": [
        "## Loading the Dataset\n",
        "\n",
        "We observe that the dataset is a csv file, however semi-colons are used as a separator. Additionally, the labels need to be mapped to numerical values. We will load the dataset and perform these operations."
      ]
    },
    {
      "cell_type": "code",
      "execution_count": 2,
      "metadata": {
        "colab": {
          "base_uri": "https://localhost:8080/",
          "height": 206
        },
        "id": "Vnyu-KbkOmYc",
        "outputId": "dba63942-17a8-45fd-919d-bf02bf4aee18"
      },
      "outputs": [
        {
          "data": {
            "text/html": [
              "<div>\n",
              "<style scoped>\n",
              "    .dataframe tbody tr th:only-of-type {\n",
              "        vertical-align: middle;\n",
              "    }\n",
              "\n",
              "    .dataframe tbody tr th {\n",
              "        vertical-align: top;\n",
              "    }\n",
              "\n",
              "    .dataframe thead th {\n",
              "        text-align: right;\n",
              "    }\n",
              "</style>\n",
              "<table border=\"1\" class=\"dataframe\">\n",
              "  <thead>\n",
              "    <tr style=\"text-align: right;\">\n",
              "      <th></th>\n",
              "      <th>article_id</th>\n",
              "      <th>essay</th>\n",
              "      <th>emotion</th>\n",
              "    </tr>\n",
              "  </thead>\n",
              "  <tbody>\n",
              "    <tr>\n",
              "      <th>0</th>\n",
              "      <td>67</td>\n",
              "      <td>it is really diheartening to read about these ...</td>\n",
              "      <td>sadness</td>\n",
              "    </tr>\n",
              "    <tr>\n",
              "      <th>1</th>\n",
              "      <td>86</td>\n",
              "      <td>the phone lines from the suicide prevention li...</td>\n",
              "      <td>sadness</td>\n",
              "    </tr>\n",
              "    <tr>\n",
              "      <th>2</th>\n",
              "      <td>206</td>\n",
              "      <td>no matter what your heritage, you should be ab...</td>\n",
              "      <td>neutral</td>\n",
              "    </tr>\n",
              "    <tr>\n",
              "      <th>3</th>\n",
              "      <td>290</td>\n",
              "      <td>it is frightening to learn about all these sha...</td>\n",
              "      <td>fear</td>\n",
              "    </tr>\n",
              "    <tr>\n",
              "      <th>4</th>\n",
              "      <td>342</td>\n",
              "      <td>the eldest generation of russians aren't being...</td>\n",
              "      <td>sadness</td>\n",
              "    </tr>\n",
              "  </tbody>\n",
              "</table>\n",
              "</div>"
            ],
            "text/plain": [
              "   article_id                                              essay  emotion\n",
              "0          67  it is really diheartening to read about these ...  sadness\n",
              "1          86  the phone lines from the suicide prevention li...  sadness\n",
              "2         206  no matter what your heritage, you should be ab...  neutral\n",
              "3         290  it is frightening to learn about all these sha...     fear\n",
              "4         342  the eldest generation of russians aren't being...  sadness"
            ]
          },
          "execution_count": 2,
          "metadata": {},
          "output_type": "execute_result"
        }
      ],
      "source": [
        "# Load the dataset\n",
        "train = pd.read_csv('train_ready_for_WS.csv', encoding='utf-8', sep=';')\n",
        "test = pd.read_csv('test.csv', encoding='utf-8', sep=';')\n",
        "\n",
        "train.head()"
      ]
    },
    {
      "cell_type": "code",
      "execution_count": 3,
      "metadata": {
        "colab": {
          "base_uri": "https://localhost:8080/",
          "height": 269
        },
        "id": "1T3LFleNOmYc",
        "outputId": "58090ae5-98de-49d1-c29f-9d9fedc9dbcb"
      },
      "outputs": [
        {
          "data": {
            "text/html": [
              "<div>\n",
              "<style scoped>\n",
              "    .dataframe tbody tr th:only-of-type {\n",
              "        vertical-align: middle;\n",
              "    }\n",
              "\n",
              "    .dataframe tbody tr th {\n",
              "        vertical-align: top;\n",
              "    }\n",
              "\n",
              "    .dataframe thead th {\n",
              "        text-align: right;\n",
              "    }\n",
              "</style>\n",
              "<table border=\"1\" class=\"dataframe\">\n",
              "  <thead>\n",
              "    <tr style=\"text-align: right;\">\n",
              "      <th></th>\n",
              "      <th>emotion</th>\n",
              "      <th>label</th>\n",
              "    </tr>\n",
              "  </thead>\n",
              "  <tbody>\n",
              "    <tr>\n",
              "      <th>0</th>\n",
              "      <td>sadness</td>\n",
              "      <td>0</td>\n",
              "    </tr>\n",
              "    <tr>\n",
              "      <th>1</th>\n",
              "      <td>neutral</td>\n",
              "      <td>1</td>\n",
              "    </tr>\n",
              "    <tr>\n",
              "      <th>2</th>\n",
              "      <td>fear</td>\n",
              "      <td>2</td>\n",
              "    </tr>\n",
              "    <tr>\n",
              "      <th>3</th>\n",
              "      <td>anger</td>\n",
              "      <td>3</td>\n",
              "    </tr>\n",
              "    <tr>\n",
              "      <th>4</th>\n",
              "      <td>disgust</td>\n",
              "      <td>4</td>\n",
              "    </tr>\n",
              "    <tr>\n",
              "      <th>5</th>\n",
              "      <td>surprise</td>\n",
              "      <td>5</td>\n",
              "    </tr>\n",
              "    <tr>\n",
              "      <th>6</th>\n",
              "      <td>joy</td>\n",
              "      <td>6</td>\n",
              "    </tr>\n",
              "  </tbody>\n",
              "</table>\n",
              "</div>"
            ],
            "text/plain": [
              "    emotion  label\n",
              "0   sadness      0\n",
              "1   neutral      1\n",
              "2      fear      2\n",
              "3     anger      3\n",
              "4   disgust      4\n",
              "5  surprise      5\n",
              "6       joy      6"
            ]
          },
          "execution_count": 3,
          "metadata": {},
          "output_type": "execute_result"
        }
      ],
      "source": [
        "# Obtain emotion mapping from the dataset\n",
        "emotions = train['emotion'].unique()\n",
        "emotion_map = {emotion: idx for idx, emotion in enumerate(emotions)}\n",
        "\n",
        "# Convert map to dataframe\n",
        "emotion_map_df = pd.DataFrame(emotion_map.items(), columns=['emotion', 'label'])\n",
        "emotion_map_df"
      ]
    },
    {
      "cell_type": "code",
      "execution_count": 4,
      "metadata": {
        "colab": {
          "base_uri": "https://localhost:8080/",
          "height": 206
        },
        "id": "UDZuiBYQOmYc",
        "outputId": "cfb8127e-1132-4091-cf60-7a70bb8a954f"
      },
      "outputs": [
        {
          "data": {
            "text/html": [
              "<div>\n",
              "<style scoped>\n",
              "    .dataframe tbody tr th:only-of-type {\n",
              "        vertical-align: middle;\n",
              "    }\n",
              "\n",
              "    .dataframe tbody tr th {\n",
              "        vertical-align: top;\n",
              "    }\n",
              "\n",
              "    .dataframe thead th {\n",
              "        text-align: right;\n",
              "    }\n",
              "</style>\n",
              "<table border=\"1\" class=\"dataframe\">\n",
              "  <thead>\n",
              "    <tr style=\"text-align: right;\">\n",
              "      <th></th>\n",
              "      <th>article_id</th>\n",
              "      <th>essay</th>\n",
              "      <th>emotion</th>\n",
              "    </tr>\n",
              "  </thead>\n",
              "  <tbody>\n",
              "    <tr>\n",
              "      <th>0</th>\n",
              "      <td>67</td>\n",
              "      <td>it is really diheartening to read about these ...</td>\n",
              "      <td>0</td>\n",
              "    </tr>\n",
              "    <tr>\n",
              "      <th>1</th>\n",
              "      <td>86</td>\n",
              "      <td>the phone lines from the suicide prevention li...</td>\n",
              "      <td>0</td>\n",
              "    </tr>\n",
              "    <tr>\n",
              "      <th>2</th>\n",
              "      <td>206</td>\n",
              "      <td>no matter what your heritage, you should be ab...</td>\n",
              "      <td>1</td>\n",
              "    </tr>\n",
              "    <tr>\n",
              "      <th>3</th>\n",
              "      <td>290</td>\n",
              "      <td>it is frightening to learn about all these sha...</td>\n",
              "      <td>2</td>\n",
              "    </tr>\n",
              "    <tr>\n",
              "      <th>4</th>\n",
              "      <td>342</td>\n",
              "      <td>the eldest generation of russians aren't being...</td>\n",
              "      <td>0</td>\n",
              "    </tr>\n",
              "  </tbody>\n",
              "</table>\n",
              "</div>"
            ],
            "text/plain": [
              "   article_id                                              essay  emotion\n",
              "0          67  it is really diheartening to read about these ...        0\n",
              "1          86  the phone lines from the suicide prevention li...        0\n",
              "2         206  no matter what your heritage, you should be ab...        1\n",
              "3         290  it is frightening to learn about all these sha...        2\n",
              "4         342  the eldest generation of russians aren't being...        0"
            ]
          },
          "execution_count": 4,
          "metadata": {},
          "output_type": "execute_result"
        }
      ],
      "source": [
        "# Apply the mapping to the datasets\n",
        "train_encoded = train.copy()\n",
        "train_encoded['emotion'] = train_encoded['emotion'].map(emotion_map)\n",
        "\n",
        "test_encoded = test.copy()\n",
        "test_encoded['emotion'] = test_encoded['emotion'].map(emotion_map)\n",
        "\n",
        "train_encoded.head()"
      ]
    },
    {
      "cell_type": "markdown",
      "metadata": {
        "id": "8cuBvfknOmYc"
      },
      "source": [
        "## Exploratory Data Analysis\n",
        "\n",
        "We will perform some basic exploratory data analysis to understand the dataset better. This will include visualizing the distribution of the labels, and the distribution of the number of words in the text. To prevent data leakage, we will only examine the training set."
      ]
    },
    {
      "cell_type": "code",
      "execution_count": 5,
      "metadata": {
        "colab": {
          "base_uri": "https://localhost:8080/"
        },
        "id": "AaLZ9HOYOmYd",
        "outputId": "18587ebc-6f6a-45c6-8454-c53521213619"
      },
      "outputs": [
        {
          "data": {
            "image/png": "[encoded data removed]",
            "text/plain": [
              "<Figure size 640x480 with 1 Axes>"
            ]
          },
          "metadata": {},
          "output_type": "display_data"
        }
      ],
      "source": [
        "# Plot the distribution of the emotions, emotion is a categorical variable\n",
        "sns.countplot(x=train['emotion'])\n",
        "\n",
        "# Add title\n",
        "plt.title('Emotion distribution')\n",
        "plt.show()"
      ]
    },
    {
      "cell_type": "code",
      "execution_count": 6,
      "metadata": {
        "id": "chV5lMhRkLas",
        "outputId": "ae8ec5e1-cf95-4da3-afac-3eae5ddb4fad"
      },
      "outputs": [
        {
          "name": "stdout",
          "output_type": "stream",
          "text": [
            "Emotion distribution:\n",
            "emotion\n",
            "sadness     0.347849\n",
            "anger       0.187634\n",
            "neutral     0.147849\n",
            "fear        0.104301\n",
            "surprise    0.088172\n",
            "disgust     0.080108\n",
            "joy         0.044086\n",
            "Name: proportion, dtype: float64\n"
          ]
        }
      ],
      "source": [
        "# Print ratio of each emotion\n",
        "print('Emotion distribution:')\n",
        "print(train['emotion'].value_counts(normalize=True))"
      ]
    },
    {
      "cell_type": "markdown",
      "metadata": {},
      "source": [
        "We observe that sadness is the predominant emotion in the dataset at roughly 35% of the data. We will use this ratio as our baseline accuracy."
      ]
    },
    {
      "cell_type": "code",
      "execution_count": 7,
      "metadata": {
        "colab": {
          "base_uri": "https://localhost:8080/"
        },
        "id": "Ku40m-HUOmYd",
        "outputId": "0d527583-24d5-4ebe-f9c7-e3310fcbfa6e"
      },
      "outputs": [
        {
          "name": "stdout",
          "output_type": "stream",
          "text": [
            "article_id    0\n",
            "essay         0\n",
            "emotion       0\n",
            "dtype: int64\n"
          ]
        }
      ],
      "source": [
        "# Check for NA values\n",
        "print(train.isna().sum())"
      ]
    },
    {
      "cell_type": "code",
      "execution_count": 8,
      "metadata": {
        "colab": {
          "base_uri": "https://localhost:8080/"
        },
        "id": "7cJ18GTWOmYd",
        "outputId": "67e6d42b-cd55-4157-bdec-27ec88c13c58"
      },
      "outputs": [
        {
          "data": {
            "image/png": "[encoded data removed]",
            "text/plain": [
              "<Figure size 640x480 with 1 Axes>"
            ]
          },
          "metadata": {},
          "output_type": "display_data"
        }
      ],
      "source": [
        "# Plot the distribution of number of words in an essay\n",
        "train['Number of Words'] = train['essay'].apply(lambda x: len(x.split()))\n",
        "sns.histplot(train['Number of Words'])\n",
        "\n",
        "# Add title\n",
        "plt.title('Word count per essay distribution')\n",
        "plt.show()"
      ]
    },
    {
      "cell_type": "markdown",
      "metadata": {
        "id": "w9hzfjRKOmYd"
      },
      "source": [
        "From this basic investigation, we observe that there is a severe class imbalance in the dataset. Additionally, the size of an essay varies greatly with the average hovering around 60 words. We can easily address this issue using a transformer model which can handle variable length inputs due to its attention mechanism."
      ]
    },
    {
      "cell_type": "markdown",
      "metadata": {
        "id": "GoxMBgKsOmYd"
      },
      "source": [
        "## Preprocessing\n",
        "\n",
        "We are using transformers which require minimal text pre-processing as they are designed to handle raw text. However, we will need to tokenize the text and convert it to a format that the model can understand. We will also need to address the class imbalance in the dataset using class weights. Additionally, we will split the training set into a training and validation set.\n",
        "\n",
        "The class weights are calculated using the formula:\n",
        "$$w_i = \\frac{N}{k \\cdot n_i}$$\n",
        "\n",
        "where N is the total number of samples, k is the number of classes and n_i is the number of samples in class i. These are multiplied by the computed losses to give more weight to the underrepresented classes.\n",
        "\n"
      ]
    },
    {
      "cell_type": "code",
      "execution_count": 9,
      "metadata": {
        "colab": {
          "base_uri": "https://localhost:8080/",
          "height": 601
        },
        "id": "xXbWWDVdPvIA",
        "outputId": "f546b09e-00b2-416f-f1be-5598a246b3a1"
      },
      "outputs": [
        {
          "data": {
            "text/html": [
              "<div>\n",
              "<style scoped>\n",
              "    .dataframe tbody tr th:only-of-type {\n",
              "        vertical-align: middle;\n",
              "    }\n",
              "\n",
              "    .dataframe tbody tr th {\n",
              "        vertical-align: top;\n",
              "    }\n",
              "\n",
              "    .dataframe thead th {\n",
              "        text-align: right;\n",
              "    }\n",
              "</style>\n",
              "<table border=\"1\" class=\"dataframe\">\n",
              "  <thead>\n",
              "    <tr style=\"text-align: right;\">\n",
              "      <th></th>\n",
              "      <th>emotion</th>\n",
              "      <th>label</th>\n",
              "      <th>count</th>\n",
              "    </tr>\n",
              "  </thead>\n",
              "  <tbody>\n",
              "    <tr>\n",
              "      <th>0</th>\n",
              "      <td>sadness</td>\n",
              "      <td>0</td>\n",
              "      <td>0.410687</td>\n",
              "    </tr>\n",
              "    <tr>\n",
              "      <th>1</th>\n",
              "      <td>neutral</td>\n",
              "      <td>1</td>\n",
              "      <td>0.966234</td>\n",
              "    </tr>\n",
              "    <tr>\n",
              "      <th>2</th>\n",
              "      <td>fear</td>\n",
              "      <td>2</td>\n",
              "      <td>1.369661</td>\n",
              "    </tr>\n",
              "    <tr>\n",
              "      <th>3</th>\n",
              "      <td>anger</td>\n",
              "      <td>3</td>\n",
              "      <td>0.761359</td>\n",
              "    </tr>\n",
              "    <tr>\n",
              "      <th>4</th>\n",
              "      <td>disgust</td>\n",
              "      <td>4</td>\n",
              "      <td>1.783317</td>\n",
              "    </tr>\n",
              "    <tr>\n",
              "      <th>5</th>\n",
              "      <td>surprise</td>\n",
              "      <td>5</td>\n",
              "      <td>1.620209</td>\n",
              "    </tr>\n",
              "    <tr>\n",
              "      <th>6</th>\n",
              "      <td>joy</td>\n",
              "      <td>6</td>\n",
              "      <td>3.240418</td>\n",
              "    </tr>\n",
              "  </tbody>\n",
              "</table>\n",
              "</div>"
            ],
            "text/plain": [
              "    emotion  label     count\n",
              "0   sadness      0  0.410687\n",
              "1   neutral      1  0.966234\n",
              "2      fear      2  1.369661\n",
              "3     anger      3  0.761359\n",
              "4   disgust      4  1.783317\n",
              "5  surprise      5  1.620209\n",
              "6       joy      6  3.240418"
            ]
          },
          "execution_count": 9,
          "metadata": {},
          "output_type": "execute_result"
        }
      ],
      "source": [
        "# Compute class counts\n",
        "class_counts = train['emotion'].value_counts()\n",
        "class_weights = len(train) / (len(emotions) * class_counts)\n",
        "\n",
        "\n",
        "# Convert to dataframe\n",
        "class_weights_df = pd.DataFrame(class_weights)\n",
        "class_weights_df.reset_index(inplace=True)\n",
        "class_weights_df.columns = ['emotion', 'count']\n",
        "\n",
        "# Merge with emotion_map_df using emotion column\n",
        "emotion_map_df = emotion_map_df.merge(class_weights_df, on='emotion')\n",
        "emotion_map_df"
      ]
    },
    {
      "cell_type": "code",
      "execution_count": 10,
      "metadata": {
        "colab": {
          "base_uri": "https://localhost:8080/",
          "height": 206
        },
        "id": "8yXJi2oZPvIB",
        "outputId": "0d2c560c-111f-4af0-c932-70a3684c5e9d"
      },
      "outputs": [
        {
          "data": {
            "text/html": [
              "<div>\n",
              "<style scoped>\n",
              "    .dataframe tbody tr th:only-of-type {\n",
              "        vertical-align: middle;\n",
              "    }\n",
              "\n",
              "    .dataframe tbody tr th {\n",
              "        vertical-align: top;\n",
              "    }\n",
              "\n",
              "    .dataframe thead th {\n",
              "        text-align: right;\n",
              "    }\n",
              "</style>\n",
              "<table border=\"1\" class=\"dataframe\">\n",
              "  <thead>\n",
              "    <tr style=\"text-align: right;\">\n",
              "      <th></th>\n",
              "      <th>article_id</th>\n",
              "      <th>essay</th>\n",
              "      <th>emotion</th>\n",
              "      <th>class_weight</th>\n",
              "    </tr>\n",
              "  </thead>\n",
              "  <tbody>\n",
              "    <tr>\n",
              "      <th>0</th>\n",
              "      <td>67</td>\n",
              "      <td>it is really diheartening to read about these ...</td>\n",
              "      <td>0</td>\n",
              "      <td>0.410687</td>\n",
              "    </tr>\n",
              "    <tr>\n",
              "      <th>1</th>\n",
              "      <td>86</td>\n",
              "      <td>the phone lines from the suicide prevention li...</td>\n",
              "      <td>0</td>\n",
              "      <td>0.410687</td>\n",
              "    </tr>\n",
              "    <tr>\n",
              "      <th>2</th>\n",
              "      <td>206</td>\n",
              "      <td>no matter what your heritage, you should be ab...</td>\n",
              "      <td>1</td>\n",
              "      <td>0.966234</td>\n",
              "    </tr>\n",
              "    <tr>\n",
              "      <th>3</th>\n",
              "      <td>290</td>\n",
              "      <td>it is frightening to learn about all these sha...</td>\n",
              "      <td>2</td>\n",
              "      <td>1.369661</td>\n",
              "    </tr>\n",
              "    <tr>\n",
              "      <th>4</th>\n",
              "      <td>342</td>\n",
              "      <td>the eldest generation of russians aren't being...</td>\n",
              "      <td>0</td>\n",
              "      <td>0.410687</td>\n",
              "    </tr>\n",
              "  </tbody>\n",
              "</table>\n",
              "</div>"
            ],
            "text/plain": [
              "   article_id                                              essay  emotion  \\\n",
              "0          67  it is really diheartening to read about these ...        0   \n",
              "1          86  the phone lines from the suicide prevention li...        0   \n",
              "2         206  no matter what your heritage, you should be ab...        1   \n",
              "3         290  it is frightening to learn about all these sha...        2   \n",
              "4         342  the eldest generation of russians aren't being...        0   \n",
              "\n",
              "   class_weight  \n",
              "0      0.410687  \n",
              "1      0.410687  \n",
              "2      0.966234  \n",
              "3      1.369661  \n",
              "4      0.410687  "
            ]
          },
          "execution_count": 10,
          "metadata": {},
          "output_type": "execute_result"
        }
      ],
      "source": [
        "# Apply class weights to the dataset\n",
        "for idx, row in emotion_map_df.iterrows():\n",
        "    train_encoded.loc[train_encoded['emotion'] == row['label'], 'class_weight'] = row['count']\n",
        "    test_encoded.loc[test_encoded['emotion'] == row['label'], 'class_weight'] = row['count']\n",
        "\n",
        "train_encoded.head()"
      ]
    },
    {
      "cell_type": "code",
      "execution_count": 11,
      "metadata": {
        "id": "yk_En_MsOmYd"
      },
      "outputs": [],
      "source": [
        "# Split the dataset into training and validation\n",
        "train_df, val_df = train_test_split(train_encoded, test_size=0.3)"
      ]
    },
    {
      "cell_type": "markdown",
      "metadata": {},
      "source": [
        "We will create a custom dataset class to handle the tokenization and class weights. We will also create a dataloader to load the data in batches. A custom collate function will also be used to pad the texts to the same length to save memory."
      ]
    },
    {
      "cell_type": "code",
      "execution_count": 12,
      "metadata": {
        "id": "pOjt2aIVOmYd"
      },
      "outputs": [],
      "source": [
        "# Create pytorch dataset\n",
        "class EmotionDataset(Dataset):\n",
        "    def __init__(self, data, tokenizer):\n",
        "        self.data = data\n",
        "        self.tokenizer = tokenizer\n",
        "\n",
        "        # Get max length from tokenizer\n",
        "        self.max_length = tokenizer.model_max_length\n",
        "\n",
        "    def __len__(self):\n",
        "        return len(self.data)\n",
        "\n",
        "    def __getitem__(self, idx):\n",
        "        essay = self.data.iloc[idx]['essay']\n",
        "        label = self.data.iloc[idx]['emotion']\n",
        "        weight = self.data.iloc[idx]['class_weight']\n",
        "\n",
        "        encoding = self.tokenizer.encode_plus(\n",
        "            essay,\n",
        "            add_special_tokens=True,\n",
        "            max_length=self.max_length,\n",
        "            return_token_type_ids=False,\n",
        "            return_attention_mask=True,\n",
        "            return_tensors='pt',\n",
        "            truncation=True\n",
        "        )\n",
        "\n",
        "        return {\n",
        "            'essay': essay,\n",
        "            'input_ids': encoding['input_ids'],\n",
        "            'attention_mask': encoding['attention_mask'],\n",
        "            'label': torch.tensor(label, dtype=torch.long),\n",
        "            'weight': torch.tensor(weight, dtype=torch.float)\n",
        "        }"
      ]
    },
    {
      "cell_type": "code",
      "execution_count": 13,
      "metadata": {
        "id": "Ixr96OlqPvIC"
      },
      "outputs": [],
      "source": [
        "def emotion_collate(batch, tokenizer):\n",
        "\n",
        "    input_ids = [item['input_ids'].squeeze(0) for item in batch]  # List of tensors\n",
        "    attention_mask = [item['attention_mask'].squeeze(0) for item in batch]  # List of tensors\n",
        "    label = torch.stack([item['label'] for item in batch])\n",
        "    weight = torch.stack([item['weight'] for item in batch])\n",
        "\n",
        "    # Pad the input_ids and attention_mask\n",
        "    input_ids = pad_sequence(input_ids, batch_first=True, padding_value=tokenizer.pad_token_id)\n",
        "    attention_mask = pad_sequence(attention_mask, batch_first=True, padding_value=0)\n",
        "\n",
        "    return {\n",
        "        'input_ids': input_ids,\n",
        "        'attention_mask': attention_mask,\n",
        "        'label': label,\n",
        "        'weight': weight\n",
        "    }"
      ]
    },
    {
      "cell_type": "code",
      "execution_count": 14,
      "metadata": {
        "id": "5cKoSizUOmYd"
      },
      "outputs": [],
      "source": [
        "# Create Dataloader which is used to iterate over the dataset\n",
        "def create_dataloader(data, tokenizer, shuffle, batch_size):\n",
        "    dataset = EmotionDataset(data, tokenizer)\n",
        "    return DataLoader(dataset, batch_size=batch_size, shuffle=shuffle, collate_fn=partial(emotion_collate, tokenizer=tokenizer))"
      ]
    },
    {
      "cell_type": "code",
      "execution_count": 15,
      "metadata": {
        "id": "YJk6XMh5OmYd"
      },
      "outputs": [],
      "source": [
        "# Obtain roberta tokenizer model\n",
        "tokenizer = AutoTokenizer.from_pretrained('roberta-base')\n",
        "train_loader = create_dataloader(train_df, tokenizer, True, BATCH_SIZE)\n",
        "val_loader = create_dataloader(val_df, tokenizer, True, BATCH_SIZE)\n",
        "test_loader = create_dataloader(test_encoded, tokenizer, False, BATCH_SIZE)\n",
        "\n",
        "# Combine train and validation for final training\n",
        "final_train_df = pd.concat([train_df, val_df])\n",
        "train_val_loader = create_dataloader(final_train_df, tokenizer, True, BATCH_SIZE)"
      ]
    },
    {
      "cell_type": "markdown",
      "metadata": {
        "id": "eGrt12isOmYd"
      },
      "source": [
        "## Model Creation\n",
        "\n",
        "Creation of classes required for the model which take hyperparameters as input. Note that RoBERTa is case sensitive which is why we did not convert the text to lowercase during preprocessing."
      ]
    },
    {
      "cell_type": "code",
      "execution_count": 16,
      "metadata": {
        "id": "3fSZOneyPvID"
      },
      "outputs": [],
      "source": [
        "def process_batch(model, device, batch):\n",
        "    \"\"\"\n",
        "    Process a batch by using the input_ids and attention_mask\n",
        "    Returns the loss and the number of correct predictions\n",
        "    \"\"\"\n",
        "    input_ids = batch['input_ids'].to(device)\n",
        "    attention_mask = batch['attention_mask'].to(device)\n",
        "    labels = batch['label'].to(device)\n",
        "    outputs = model(input_ids, attention_mask=attention_mask, labels=labels)\n",
        "\n",
        "    # Get number of correct predictions\n",
        "    preds = torch.argmax(outputs.logits, dim=1)\n",
        "    correct_predictions = (preds == labels).float()\n",
        "\n",
        "    # Get the loss taking class weights into account\n",
        "    loss = outputs.loss * batch['weight'].to(device)\n",
        "    loss = loss.mean()\n",
        "\n",
        "    return loss, correct_predictions\n"
      ]
    },
    {
      "cell_type": "code",
      "execution_count": 17,
      "metadata": {
        "id": "wrCnrfEDPvID"
      },
      "outputs": [],
      "source": [
        "def train_model(model, optimizer, device, dataset):\n",
        "    \"\"\"\n",
        "    Train the model\n",
        "    \"\"\"\n",
        "    # Set the model to train mode\n",
        "    model.train()\n",
        "\n",
        "    # Initialize total loss to store accumulated loss during training\n",
        "    total_loss = 0\n",
        "\n",
        "    # Iterate over batches in the dataset\n",
        "    for batch in dataset:\n",
        "\n",
        "        # Clear gradients from previous iteration\n",
        "        optimizer.zero_grad()\n",
        "\n",
        "        # Process the current batch and get the loss\n",
        "        loss, _ = process_batch(model, device, batch)\n",
        "\n",
        "        # Add the current batch's loss to the total loss\n",
        "        total_loss += loss.item()\n",
        "\n",
        "        # Perform backward pass to calculate gradients\n",
        "        loss.backward()\n",
        "\n",
        "        # Update model parameters based on the calculated gradients\n",
        "        optimizer.step()\n",
        "\n",
        "    # Calculate and return average loss over the entire dataset\n",
        "    return total_loss / len(dataset)"
      ]
    },
    {
      "cell_type": "code",
      "execution_count": 18,
      "metadata": {
        "id": "-Cd_7IKvPvID"
      },
      "outputs": [],
      "source": [
        "def evaluate_model(model, device, dataset):\n",
        "    \"\"\"\n",
        "    Evaluate the model\n",
        "    \"\"\"\n",
        "    model.eval()\n",
        "    total_loss = 0\n",
        "    with torch.no_grad():\n",
        "        for batch in dataset:\n",
        "            loss, _ = process_batch(model, device, batch)\n",
        "            total_loss += loss.item()\n",
        "    return total_loss / len(dataset)"
      ]
    },
    {
      "cell_type": "markdown",
      "metadata": {},
      "source": [
        "We make use of early stopping to prevent overfitting. Thus, our training stops as soon as the validation loss starts increasing."
      ]
    },
    {
      "cell_type": "code",
      "execution_count": 19,
      "metadata": {
        "id": "4_nu2mcDRrvl"
      },
      "outputs": [],
      "source": [
        "def train_configuration(model, optimizer, device, train_loader, val_loader, epochs):\n",
        "    \"\"\"\n",
        "    Train the model for a number of epochs and return the train and validation losses\n",
        "    \"\"\"\n",
        "    train_losses = []\n",
        "    val_losses = []\n",
        "\n",
        "    for _ in tqdm(range(epochs)):\n",
        "\n",
        "        train_loss = train_model(model, optimizer, device, train_loader)\n",
        "        train_losses.append(train_loss)\n",
        "\n",
        "        if val_loader is None:\n",
        "            continue\n",
        "\n",
        "        val_loss = evaluate_model(model, device, val_loader)\n",
        "        val_losses.append(val_loss)\n",
        "\n",
        "        # Early stopping\n",
        "        if len(val_losses) > 1 and val_losses[-1] > val_losses[-2]:\n",
        "            break\n",
        "\n",
        "    return train_losses, val_losses"
      ]
    },
    {
      "cell_type": "code",
      "execution_count": 20,
      "metadata": {
        "id": "_p545HpFkLat"
      },
      "outputs": [],
      "source": [
        "def create_model(model_name, device):\n",
        "    \"\"\"\n",
        "    Create the model\n",
        "    \"\"\"\n",
        "    model = AutoModelForSequenceClassification.from_pretrained(model_name, num_labels=len(emotions))\n",
        "    model.to(device)\n",
        "    return model"
      ]
    },
    {
      "cell_type": "code",
      "execution_count": 21,
      "metadata": {
        "id": "7s7KKDDPkLat"
      },
      "outputs": [],
      "source": [
        "def create_optimizer(model, base_lr, weight_decay):\n",
        "    \"\"\"\n",
        "    Create the optimizer with specified learning rate and weight decay\n",
        "    The weight decay is used to prevent overfitting and represents L2 regularization\n",
        "    \"\"\"\n",
        "    optimizer = torch.optim.AdamW(model.parameters(), lr=base_lr, weight_decay=weight_decay)\n",
        "    return optimizer"
      ]
    },
    {
      "cell_type": "markdown",
      "metadata": {
        "id": "ECxTLx53PvID"
      },
      "source": [
        "## Model Training\n",
        "\n",
        "Training loop with hyperparameter tuning. The only hyper-parameters that we will tune are the learning rate and the weight decay. We will store the results for each hyper-parameter combination in a dataframe and select the best hyper-parameters based on the validation loss."
      ]
    },
    {
      "cell_type": "code",
      "execution_count": 22,
      "metadata": {
        "id": "o_MwM4blPvID"
      },
      "outputs": [],
      "source": [
        "hyperparameters = {\n",
        "     \"learning_rate\": [1e-5, 2e-5, 3e-5],\n",
        "     \"epochs\": [25], # Early stopping is used so this is a maximum\n",
        "     \"decay\": [0.1, 0.2, 0.5] # Used in reference paper\n",
        "}"
      ]
    },
    {
      "cell_type": "code",
      "execution_count": 23,
      "metadata": {
        "colab": {
          "base_uri": "https://localhost:8080/",
          "height": 141,
          "referenced_widgets": [
            "cd1d793569f64ef29afc06a732fcb5bc",
            "1925911171c04d29b221755ccecec0b2",
            "df0be5815bdd4469a9e0115e40232e73",
            "c2b706fdf808451395b06b5afb11088e",
            "e2f9fb2837e34bceb7e20a0dcb19399f",
            "143fec6409eb44c4a0008c98799e3ba2",
            "affffcb89c164191aeebd4dc0a4ebbb3",
            "be824ca799fc474abe8a91b2d9a70f0b",
            "ffcd70764b1b4540b6e3bdaee06e39b4",
            "77a080d7eb99479e964dd3e3e3f4de01",
            "0813515779204fd18d31b168f6dba420",
            "1e4c291c67294e538400b4abd602d5be",
            "a8daa317f9dd4dc39a3f2b4a585df477",
            "94c1151a07e74442a4ea3ed0709aaf08",
            "1d3c5aad2f1949c3b9ddaec857b9c5d8",
            "92a39fe6ab3344dfb0e20f676dc96516",
            "a78a1806d1d441f2884834bc91390c26",
            "edeca42c4d7a43a78c075b1c550db8a1",
            "5f9198cc81264406b82b09e13aa2c69a",
            "821ebb67aa3645a0b3787bfc05a4e3ea",
            "d1ab5945845e45a9bc87a910b1408a1f"
          ]
        },
        "id": "46kt2AQ7PvIE",
        "outputId": "0ccb2e45-6abd-4dc9-c2a9-20c045a3f4cc"
      },
      "outputs": [
        {
          "data": {
            "application/vnd.jupyter.widget-view+json": {
              "model_id": "a1a657329aa043d1b258d20f7e885e72",
              "version_major": 2,
              "version_minor": 0
            },
            "text/plain": [
              "Hyperparameter combinations:   0%|          | 0/9 [00:00<?, ?it/s]"
            ]
          },
          "metadata": {},
          "output_type": "display_data"
        },
        {
          "name": "stdout",
          "output_type": "stream",
          "text": [
            "{'learning_rate': 1e-05, 'epochs': 25, 'decay': 0.1}\n"
          ]
        },
        {
          "name": "stderr",
          "output_type": "stream",
          "text": [
            "Some weights of RobertaForSequenceClassification were not initialized from the model checkpoint at roberta-base and are newly initialized: ['classifier.dense.bias', 'classifier.dense.weight', 'classifier.out_proj.bias', 'classifier.out_proj.weight']\n",
            "You should probably TRAIN this model on a down-stream task to be able to use it for predictions and inference.\n"
          ]
        },
        {
          "data": {
            "application/vnd.jupyter.widget-view+json": {
              "model_id": "daf7b6673ddb4883b142690eed86e81b",
              "version_major": 2,
              "version_minor": 0
            },
            "text/plain": [
              "  0%|          | 0/25 [00:00<?, ?it/s]"
            ]
          },
          "metadata": {},
          "output_type": "display_data"
        },
        {
          "name": "stdout",
          "output_type": "stream",
          "text": [
            "{'learning_rate': 1e-05, 'epochs': 25, 'decay': 0.2}\n"
          ]
        },
        {
          "name": "stderr",
          "output_type": "stream",
          "text": [
            "Some weights of RobertaForSequenceClassification were not initialized from the model checkpoint at roberta-base and are newly initialized: ['classifier.dense.bias', 'classifier.dense.weight', 'classifier.out_proj.bias', 'classifier.out_proj.weight']\n",
            "You should probably TRAIN this model on a down-stream task to be able to use it for predictions and inference.\n"
          ]
        },
        {
          "data": {
            "application/vnd.jupyter.widget-view+json": {
              "model_id": "565da9d1ff6d4044995327df7c983dfb",
              "version_major": 2,
              "version_minor": 0
            },
            "text/plain": [
              "  0%|          | 0/25 [00:00<?, ?it/s]"
            ]
          },
          "metadata": {},
          "output_type": "display_data"
        },
        {
          "name": "stdout",
          "output_type": "stream",
          "text": [
            "{'learning_rate': 1e-05, 'epochs': 25, 'decay': 0.5}\n"
          ]
        },
        {
          "name": "stderr",
          "output_type": "stream",
          "text": [
            "Some weights of RobertaForSequenceClassification were not initialized from the model checkpoint at roberta-base and are newly initialized: ['classifier.dense.bias', 'classifier.dense.weight', 'classifier.out_proj.bias', 'classifier.out_proj.weight']\n",
            "You should probably TRAIN this model on a down-stream task to be able to use it for predictions and inference.\n"
          ]
        },
        {
          "data": {
            "application/vnd.jupyter.widget-view+json": {
              "model_id": "43f851f1a7c74f37a5d0abbafd0ae936",
              "version_major": 2,
              "version_minor": 0
            },
            "text/plain": [
              "  0%|          | 0/25 [00:00<?, ?it/s]"
            ]
          },
          "metadata": {},
          "output_type": "display_data"
        },
        {
          "name": "stdout",
          "output_type": "stream",
          "text": [
            "{'learning_rate': 2e-05, 'epochs': 25, 'decay': 0.1}\n"
          ]
        },
        {
          "name": "stderr",
          "output_type": "stream",
          "text": [
            "Some weights of RobertaForSequenceClassification were not initialized from the model checkpoint at roberta-base and are newly initialized: ['classifier.dense.bias', 'classifier.dense.weight', 'classifier.out_proj.bias', 'classifier.out_proj.weight']\n",
            "You should probably TRAIN this model on a down-stream task to be able to use it for predictions and inference.\n"
          ]
        },
        {
          "data": {
            "application/vnd.jupyter.widget-view+json": {
              "model_id": "27eaed797f4443c9a2d3fcfade2a7155",
              "version_major": 2,
              "version_minor": 0
            },
            "text/plain": [
              "  0%|          | 0/25 [00:00<?, ?it/s]"
            ]
          },
          "metadata": {},
          "output_type": "display_data"
        },
        {
          "name": "stdout",
          "output_type": "stream",
          "text": [
            "{'learning_rate': 2e-05, 'epochs': 25, 'decay': 0.2}\n"
          ]
        },
        {
          "name": "stderr",
          "output_type": "stream",
          "text": [
            "Some weights of RobertaForSequenceClassification were not initialized from the model checkpoint at roberta-base and are newly initialized: ['classifier.dense.bias', 'classifier.dense.weight', 'classifier.out_proj.bias', 'classifier.out_proj.weight']\n",
            "You should probably TRAIN this model on a down-stream task to be able to use it for predictions and inference.\n"
          ]
        },
        {
          "data": {
            "application/vnd.jupyter.widget-view+json": {
              "model_id": "105baf5905d04f34b261d63387e1e6fc",
              "version_major": 2,
              "version_minor": 0
            },
            "text/plain": [
              "  0%|          | 0/25 [00:00<?, ?it/s]"
            ]
          },
          "metadata": {},
          "output_type": "display_data"
        },
        {
          "name": "stdout",
          "output_type": "stream",
          "text": [
            "{'learning_rate': 2e-05, 'epochs': 25, 'decay': 0.5}\n"
          ]
        },
        {
          "name": "stderr",
          "output_type": "stream",
          "text": [
            "Some weights of RobertaForSequenceClassification were not initialized from the model checkpoint at roberta-base and are newly initialized: ['classifier.dense.bias', 'classifier.dense.weight', 'classifier.out_proj.bias', 'classifier.out_proj.weight']\n",
            "You should probably TRAIN this model on a down-stream task to be able to use it for predictions and inference.\n"
          ]
        },
        {
          "data": {
            "application/vnd.jupyter.widget-view+json": {
              "model_id": "51b67152666d474fb5ee63d7b6dba6fe",
              "version_major": 2,
              "version_minor": 0
            },
            "text/plain": [
              "  0%|          | 0/25 [00:00<?, ?it/s]"
            ]
          },
          "metadata": {},
          "output_type": "display_data"
        },
        {
          "name": "stdout",
          "output_type": "stream",
          "text": [
            "{'learning_rate': 3e-05, 'epochs': 25, 'decay': 0.1}\n"
          ]
        },
        {
          "name": "stderr",
          "output_type": "stream",
          "text": [
            "Some weights of RobertaForSequenceClassification were not initialized from the model checkpoint at roberta-base and are newly initialized: ['classifier.dense.bias', 'classifier.dense.weight', 'classifier.out_proj.bias', 'classifier.out_proj.weight']\n",
            "You should probably TRAIN this model on a down-stream task to be able to use it for predictions and inference.\n"
          ]
        },
        {
          "data": {
            "application/vnd.jupyter.widget-view+json": {
              "model_id": "f80c0ef768094fceb08f832cebab9e2d",
              "version_major": 2,
              "version_minor": 0
            },
            "text/plain": [
              "  0%|          | 0/25 [00:00<?, ?it/s]"
            ]
          },
          "metadata": {},
          "output_type": "display_data"
        },
        {
          "name": "stdout",
          "output_type": "stream",
          "text": [
            "{'learning_rate': 3e-05, 'epochs': 25, 'decay': 0.2}\n"
          ]
        },
        {
          "name": "stderr",
          "output_type": "stream",
          "text": [
            "Some weights of RobertaForSequenceClassification were not initialized from the model checkpoint at roberta-base and are newly initialized: ['classifier.dense.bias', 'classifier.dense.weight', 'classifier.out_proj.bias', 'classifier.out_proj.weight']\n",
            "You should probably TRAIN this model on a down-stream task to be able to use it for predictions and inference.\n"
          ]
        },
        {
          "data": {
            "application/vnd.jupyter.widget-view+json": {
              "model_id": "2a6181990eea44e797627c7e5e546b6f",
              "version_major": 2,
              "version_minor": 0
            },
            "text/plain": [
              "  0%|          | 0/25 [00:00<?, ?it/s]"
            ]
          },
          "metadata": {},
          "output_type": "display_data"
        },
        {
          "name": "stdout",
          "output_type": "stream",
          "text": [
            "{'learning_rate': 3e-05, 'epochs': 25, 'decay': 0.5}\n"
          ]
        },
        {
          "name": "stderr",
          "output_type": "stream",
          "text": [
            "Some weights of RobertaForSequenceClassification were not initialized from the model checkpoint at roberta-base and are newly initialized: ['classifier.dense.bias', 'classifier.dense.weight', 'classifier.out_proj.bias', 'classifier.out_proj.weight']\n",
            "You should probably TRAIN this model on a down-stream task to be able to use it for predictions and inference.\n"
          ]
        },
        {
          "data": {
            "application/vnd.jupyter.widget-view+json": {
              "model_id": "9be51f5647ab4519b7b894b8b9787ae9",
              "version_major": 2,
              "version_minor": 0
            },
            "text/plain": [
              "  0%|          | 0/25 [00:00<?, ?it/s]"
            ]
          },
          "metadata": {},
          "output_type": "display_data"
        }
      ],
      "source": [
        "# Create a dataframe to store the hyperparameters and the corresponding losses\n",
        "# Use the hyper-parameter keys as columns\n",
        "model_configuration_df = pd.DataFrame(columns=list(hyperparameters.keys()) + ['train_losses', 'val_losses'])\n",
        "device = torch.device(\"cuda\" if torch.cuda.is_available() else \"cpu\")\n",
        "\n",
        "# Iterate over the hyperparameters combinations and train the model\n",
        "# The combination is be a dictionary with the same keys as the hyperparameters dictionary\n",
        "for combination in tqdm(list(itertools.product(*hyperparameters.values())), desc='Hyperparameter combinations'):\n",
        "\n",
        "    # Create a dictionary with the hyperparameters\n",
        "    params = {key: value for key, value in zip(hyperparameters.keys(), combination)}\n",
        "    print(params)\n",
        "\n",
        "    # Create the model and the optimizer\n",
        "    model = create_model('roberta-base', device)\n",
        "    optimizer = create_optimizer(model, base_lr=params['learning_rate'], weight_decay=params['decay'])\n",
        "\n",
        "    # Train the model and obtain the train and validation losses\n",
        "    train_losses, val_losses = train_configuration(model, optimizer, device, train_loader, val_loader, epochs=params['epochs'])\n",
        "\n",
        "    # Add the hyperparameters and the corresponding losses to the dataframe\n",
        "    model_configuration_df.loc[len(model_configuration_df)] = list(params.values()) + [train_losses, val_losses]\n",
        "\n",
        "    # Modify the epoch value to the actual number of epochs\n",
        "    model_configuration_df.loc[len(model_configuration_df) - 1, 'epochs'] = len(train_losses)"
      ]
    },
    {
      "cell_type": "code",
      "execution_count": 24,
      "metadata": {
        "id": "GAgMZBEDPvIE"
      },
      "outputs": [],
      "source": [
        "def plot_losses(train_losses, val_losses):\n",
        "\n",
        "    # Plot the training and validation losses\n",
        "    plt.plot(train_losses, label='Training')\n",
        "    plt.plot(val_losses, label='Validation')\n",
        "    plt.legend()\n",
        "\n",
        "    # Label the axes and title\n",
        "    plt.xlabel('Epoch')\n",
        "    plt.ylabel('Loss')\n",
        "    plt.title('Training and Validation Loss over Epochs')\n",
        "\n",
        "    # Make x axis discrete\n",
        "    plt.xticks(range(len(train_losses)))\n",
        "    plt.show()"
      ]
    },
    {
      "cell_type": "code",
      "execution_count": 25,
      "metadata": {
        "colab": {
          "base_uri": "https://localhost:8080/",
          "height": 472
        },
        "id": "6VI2S-CVPvIE",
        "outputId": "b7a2fd41-9dff-4df9-f93c-e88862f67d42"
      },
      "outputs": [
        {
          "data": {
            "image/png": "[encoded data removed]",
            "text/plain": [
              "<Figure size 640x480 with 1 Axes>"
            ]
          },
          "metadata": {},
          "output_type": "display_data"
        }
      ],
      "source": [
        "# Create a new column 'last_val_loss' that contains the last validation loss for each row\n",
        "model_configuration_df['last_val_loss'] = model_configuration_df['val_losses'].apply(lambda x: x[-1])\n",
        "\n",
        "# Sort the DataFrame by the 'last_val_loss' column\n",
        "sorted_df = model_configuration_df.sort_values(by='last_val_loss', ascending=True)\n",
        "best_configuration = sorted_df.iloc[0]\n",
        "\n",
        "# Plot the losses for the best configuration\n",
        "plot_losses(best_configuration['train_losses'], best_configuration['val_losses'])\n",
        "\n",
        "# Save sorted_df to a csv file\n",
        "sorted_df.to_csv('sorted_df.csv', index=False)"
      ]
    },
    {
      "cell_type": "markdown",
      "metadata": {},
      "source": [
        "As seen in the plot above, our validation loss stops decreasing after roughly 5 epochs."
      ]
    },
    {
      "cell_type": "markdown",
      "metadata": {
        "id": "9uhjF1bSOmYe"
      },
      "source": [
        "## Model Evaluation\n",
        "\n",
        "Now that we have determined the best hyper-parameters, we will train the model on the entire training set and evaluate it on the test set. The metrics that we will use are accuracy, precision, recall, and F1 score. We will also plot the confusion matrix to visualize the performance of the model and observe the classes that it misclassifies.\n",
        "\n",
        "The formulae for the metrics are as follows:\n",
        "$$Accuracy = \\frac{TP + TN}{TP + TN + FP + FN}$$\n",
        "$$Precision = \\frac{TP}{TP + FP}$$\n",
        "$$Recall = \\frac{TP}{TP + FN}$$\n",
        "$$F1 = 2 \\cdot \\frac{Precision \\cdot Recall}{Precision + Recall}$$\n",
        "\n",
        "where TP is the number of true positives, TN is the number of true negatives, FP is the number of false positives, and FN is the number of false negatives. The macro F1 score is calculated by averaging the F1 scores of each individual class. This is especially useful when dealing with imbalanced datasets, where one or more classes have significantly fewer instances than others. While the macro F1 score gives equal weight to each class, the micro F1 score aggregates the contributions of all classes to compute the average F1 score."
      ]
    },
    {
      "cell_type": "code",
      "execution_count": 26,
      "metadata": {
        "colab": {
          "base_uri": "https://localhost:8080/",
          "referenced_widgets": [
            "463988e95c6d4dfc99868b2e45ea0966"
          ]
        },
        "id": "i6_Qt2iHPvIE",
        "outputId": "b911f7eb-829f-41b1-c2ff-d9aa5111673a"
      },
      "outputs": [
        {
          "name": "stderr",
          "output_type": "stream",
          "text": [
            "Some weights of RobertaForSequenceClassification were not initialized from the model checkpoint at roberta-base and are newly initialized: ['classifier.dense.bias', 'classifier.dense.weight', 'classifier.out_proj.bias', 'classifier.out_proj.weight']\n",
            "You should probably TRAIN this model on a down-stream task to be able to use it for predictions and inference.\n"
          ]
        },
        {
          "data": {
            "application/vnd.jupyter.widget-view+json": {
              "model_id": "e2a8839ecf074faba1c35f0377d1a14b",
              "version_major": 2,
              "version_minor": 0
            },
            "text/plain": [
              "  0%|          | 0/6 [00:00<?, ?it/s]"
            ]
          },
          "metadata": {},
          "output_type": "display_data"
        }
      ],
      "source": [
        "# Train the model with the best hyperparameters\n",
        "best_model = create_model('roberta-base', device)\n",
        "optimizer = create_optimizer(best_model, base_lr=best_configuration['learning_rate'], weight_decay=best_configuration['decay'])\n",
        "\n",
        "# Train the model again since we cannot store the model from the previous training due to the large size\n",
        "train_losses, val_losses = train_configuration(best_model, optimizer, device, train_val_loader, None, epochs=best_configuration['epochs'])"
      ]
    },
    {
      "cell_type": "code",
      "execution_count": 27,
      "metadata": {
        "id": "tGWG26fHPvIF"
      },
      "outputs": [],
      "source": [
        "def metric_evaluation(model, device, test_loader):\n",
        "    \"\"\"\n",
        "    Report the metrics for the model\n",
        "    \"\"\"\n",
        "    model.eval()\n",
        "    model.to(device)\n",
        "\n",
        "    true_labels = []\n",
        "    predictions = []\n",
        "\n",
        "    # Collect the predictions\n",
        "    with torch.no_grad():\n",
        "        for batch in test_loader:\n",
        "            input_ids = batch['input_ids'].to(device)\n",
        "            attention_mask = batch['attention_mask'].to(device)\n",
        "            labels = batch['label'].to(device)\n",
        "\n",
        "\n",
        "            outputs = model(input_ids, attention_mask=attention_mask)\n",
        "            preds = torch.argmax(outputs.logits, dim=1)\n",
        "\n",
        "            true_labels.extend(labels.cpu().numpy())\n",
        "            predictions.extend(preds.cpu().numpy())\n",
        "\n",
        "    # Calculate evaluation metrics\n",
        "    # Calculate F1-score, which is a harmonic mean of precision and recall, for each class\n",
        "    macro_f1 = f1_score(true_labels, predictions, average='macro')\n",
        "\n",
        "    # This also calculates the F1-score, but it takes the weighted mean of the F1-score across all classes\n",
        "    micro_f1 = f1_score(true_labels, predictions, average='micro')\n",
        "\n",
        "    # Calculate precision, which is the proportion of predicted positives that are actually positive\n",
        "    precision = precision_score(true_labels, predictions, average='macro')\n",
        "\n",
        "    # Calculate recall, which is the proportion of actual positives that are predicted positive\n",
        "    recall = recall_score(true_labels, predictions, average='macro')\n",
        "\n",
        "    # Make confusion matrix\n",
        "    conf_matrix = confusion_matrix(true_labels, predictions)\n",
        "\n",
        "    # Calculate accuracy, which is the overall proportion of predictions that are correct\n",
        "    accuracy = accuracy_score(true_labels, predictions)\n",
        "\n",
        "    print(f'Macro F1: {macro_f1}')\n",
        "    print(f'Micro F1: {micro_f1}')\n",
        "    print(f'Precision: {precision}')\n",
        "    print(f'Recall: {recall}')\n",
        "    print(f'Accuracy: {accuracy}')\n",
        "\n",
        "    # display the confusion matrix, use seaborn heatmap\n",
        "    plt.figure(figsize=(5, 5))\n",
        "    sns.heatmap(conf_matrix, annot=True, fmt='d', cmap='Blues', xticklabels=emotions, yticklabels=emotions)\n",
        "    plt.xlabel('Predicted')\n",
        "    plt.ylabel('True')\n",
        "    plt.title('Confusion Matrix')\n",
        "    plt.show()\n"
      ]
    },
    {
      "cell_type": "code",
      "execution_count": 28,
      "metadata": {
        "colab": {
          "base_uri": "https://localhost:8080/"
        },
        "id": "dDyspGCkDbI4",
        "outputId": "09bac2c6-b4df-45f1-8d47-c41780476d81"
      },
      "outputs": [
        {
          "name": "stdout",
          "output_type": "stream",
          "text": [
            "Macro F1: 0.5764732651910058\n",
            "Micro F1: 0.6777777777777778\n",
            "Precision: 0.5914400351828909\n",
            "Recall: 0.5827159241091537\n",
            "Accuracy: 0.6777777777777778\n"
          ]
        },
        {
          "data": {
            "image/png": "[encoded data removed]",
            "text/plain": [
              "<Figure size 500x500 with 2 Axes>"
            ]
          },
          "metadata": {},
          "output_type": "display_data"
        }
      ],
      "source": [
        "metric_evaluation(best_model, device, test_loader)"
      ]
    },
    {
      "cell_type": "markdown",
      "metadata": {
        "id": "Cd-im1bhkLau"
      },
      "source": [
        "We observe that the model performs well and outperforms the baseline of 35% accuracy from the most frequent class. In the confusion matrix, we notice that the model struggles to classify the classes with the least amount of samples and misclassifies them as the predominant sadness and anger classes. This is expected as the model has less data to learn from. Nonetheless, the diagonal of the confusion matrix indicates that most of the classes are classified correctly."
      ]
    },
    {
      "cell_type": "markdown",
      "metadata": {},
      "source": [
        "## Improvements\n",
        "\n",
        "In our approach, we only use a single model to perform emotion classification. We can improve the performance of the model by using an ensemble of models and selecting a class though the appropriate voting strategy. We can also use a larger model such as GPT2 to better capture the context of the text. Additionally, we can make use of more complex regularization techniques like dropout and stochastic weight averaging to prevent overfitting.\n",
        "\n",
        "It would also be interesting to test the usage of additional features like the sentiment of each word from a lexicon database to provide the model with more information. We can also use techniques like data augmentation to increase the size of the dataset and address the class imbalance."
      ]
    }
  ],
  "metadata": {
    "accelerator": "GPU",
    "colab": {
      "collapsed_sections": [
        "8cuBvfknOmYc"
      ],
      "gpuType": "T4",
      "provenance": []
    },
    "kernelspec": {
      "display_name": "Python 3",
      "name": "python3"
    },
    "language_info": {
      "codemirror_mode": {
        "name": "ipython",
        "version": 3
      },
      "file_extension": ".py",
      "mimetype": "text/x-python",
      "name": "python",
      "nbconvert_exporter": "python",
      "pygments_lexer": "ipython3",
      "version": "3.11.5"
    },
    "widgets": {
      "application/vnd.jupyter.widget-state+json": {
        "0813515779204fd18d31b168f6dba420": {
          "model_module": "@jupyter-widgets/controls",
          "model_module_version": "1.5.0",
          "model_name": "DescriptionStyleModel",
          "state": {
            "_model_module": "@jupyter-widgets/controls",
            "_model_module_version": "1.5.0",
            "_model_name": "DescriptionStyleModel",
            "_view_count": null,
            "_view_module": "@jupyter-widgets/base",
            "_view_module_version": "1.2.0",
            "_view_name": "StyleView",
            "description_width": ""
          }
        },
        "143fec6409eb44c4a0008c98799e3ba2": {
          "model_module": "@jupyter-widgets/base",
          "model_module_version": "1.2.0",
          "model_name": "LayoutModel",
          "state": {
            "_model_module": "@jupyter-widgets/base",
            "_model_module_version": "1.2.0",
            "_model_name": "LayoutModel",
            "_view_count": null,
            "_view_module": "@jupyter-widgets/base",
            "_view_module_version": "1.2.0",
            "_view_name": "LayoutView",
            "align_content": null,
            "align_items": null,
            "align_self": null,
            "border": null,
            "bottom": null,
            "display": null,
            "flex": null,
            "flex_flow": null,
            "grid_area": null,
            "grid_auto_columns": null,
            "grid_auto_flow": null,
            "grid_auto_rows": null,
            "grid_column": null,
            "grid_gap": null,
            "grid_row": null,
            "grid_template_areas": null,
            "grid_template_columns": null,
            "grid_template_rows": null,
            "height": null,
            "justify_content": null,
            "justify_items": null,
            "left": null,
            "margin": null,
            "max_height": null,
            "max_width": null,
            "min_height": null,
            "min_width": null,
            "object_fit": null,
            "object_position": null,
            "order": null,
            "overflow": null,
            "overflow_x": null,
            "overflow_y": null,
            "padding": null,
            "right": null,
            "top": null,
            "visibility": null,
            "width": null
          }
        },
        "1925911171c04d29b221755ccecec0b2": {
          "model_module": "@jupyter-widgets/controls",
          "model_module_version": "1.5.0",
          "model_name": "HTMLModel",
          "state": {
            "_dom_classes": [],
            "_model_module": "@jupyter-widgets/controls",
            "_model_module_version": "1.5.0",
            "_model_name": "HTMLModel",
            "_view_count": null,
            "_view_module": "@jupyter-widgets/controls",
            "_view_module_version": "1.5.0",
            "_view_name": "HTMLView",
            "description": "",
            "description_tooltip": null,
            "layout": "IPY_MODEL_143fec6409eb44c4a0008c98799e3ba2",
            "placeholder": "​",
            "style": "IPY_MODEL_affffcb89c164191aeebd4dc0a4ebbb3",
            "value": "Hyperparameter combinations: 100%"
          }
        },
        "77a080d7eb99479e964dd3e3e3f4de01": {
          "model_module": "@jupyter-widgets/base",
          "model_module_version": "1.2.0",
          "model_name": "LayoutModel",
          "state": {
            "_model_module": "@jupyter-widgets/base",
            "_model_module_version": "1.2.0",
            "_model_name": "LayoutModel",
            "_view_count": null,
            "_view_module": "@jupyter-widgets/base",
            "_view_module_version": "1.2.0",
            "_view_name": "LayoutView",
            "align_content": null,
            "align_items": null,
            "align_self": null,
            "border": null,
            "bottom": null,
            "display": null,
            "flex": null,
            "flex_flow": null,
            "grid_area": null,
            "grid_auto_columns": null,
            "grid_auto_flow": null,
            "grid_auto_rows": null,
            "grid_column": null,
            "grid_gap": null,
            "grid_row": null,
            "grid_template_areas": null,
            "grid_template_columns": null,
            "grid_template_rows": null,
            "height": null,
            "justify_content": null,
            "justify_items": null,
            "left": null,
            "margin": null,
            "max_height": null,
            "max_width": null,
            "min_height": null,
            "min_width": null,
            "object_fit": null,
            "object_position": null,
            "order": null,
            "overflow": null,
            "overflow_x": null,
            "overflow_y": null,
            "padding": null,
            "right": null,
            "top": null,
            "visibility": null,
            "width": null
          }
        },
        "affffcb89c164191aeebd4dc0a4ebbb3": {
          "model_module": "@jupyter-widgets/controls",
          "model_module_version": "1.5.0",
          "model_name": "DescriptionStyleModel",
          "state": {
            "_model_module": "@jupyter-widgets/controls",
            "_model_module_version": "1.5.0",
            "_model_name": "DescriptionStyleModel",
            "_view_count": null,
            "_view_module": "@jupyter-widgets/base",
            "_view_module_version": "1.2.0",
            "_view_name": "StyleView",
            "description_width": ""
          }
        },
        "be824ca799fc474abe8a91b2d9a70f0b": {
          "model_module": "@jupyter-widgets/base",
          "model_module_version": "1.2.0",
          "model_name": "LayoutModel",
          "state": {
            "_model_module": "@jupyter-widgets/base",
            "_model_module_version": "1.2.0",
            "_model_name": "LayoutModel",
            "_view_count": null,
            "_view_module": "@jupyter-widgets/base",
            "_view_module_version": "1.2.0",
            "_view_name": "LayoutView",
            "align_content": null,
            "align_items": null,
            "align_self": null,
            "border": null,
            "bottom": null,
            "display": null,
            "flex": null,
            "flex_flow": null,
            "grid_area": null,
            "grid_auto_columns": null,
            "grid_auto_flow": null,
            "grid_auto_rows": null,
            "grid_column": null,
            "grid_gap": null,
            "grid_row": null,
            "grid_template_areas": null,
            "grid_template_columns": null,
            "grid_template_rows": null,
            "height": null,
            "justify_content": null,
            "justify_items": null,
            "left": null,
            "margin": null,
            "max_height": null,
            "max_width": null,
            "min_height": null,
            "min_width": null,
            "object_fit": null,
            "object_position": null,
            "order": null,
            "overflow": null,
            "overflow_x": null,
            "overflow_y": null,
            "padding": null,
            "right": null,
            "top": null,
            "visibility": null,
            "width": null
          }
        },
        "c2b706fdf808451395b06b5afb11088e": {
          "model_module": "@jupyter-widgets/controls",
          "model_module_version": "1.5.0",
          "model_name": "HTMLModel",
          "state": {
            "_dom_classes": [],
            "_model_module": "@jupyter-widgets/controls",
            "_model_module_version": "1.5.0",
            "_model_name": "HTMLModel",
            "_view_count": null,
            "_view_module": "@jupyter-widgets/controls",
            "_view_module_version": "1.5.0",
            "_view_name": "HTMLView",
            "description": "",
            "description_tooltip": null,
            "layout": "IPY_MODEL_77a080d7eb99479e964dd3e3e3f4de01",
            "placeholder": "​",
            "style": "IPY_MODEL_0813515779204fd18d31b168f6dba420",
            "value": " 1/1 [02:31&lt;00:00, 151.41s/it]"
          }
        },
        "cd1d793569f64ef29afc06a732fcb5bc": {
          "model_module": "@jupyter-widgets/controls",
          "model_module_version": "1.5.0",
          "model_name": "HBoxModel",
          "state": {
            "_dom_classes": [],
            "_model_module": "@jupyter-widgets/controls",
            "_model_module_version": "1.5.0",
            "_model_name": "HBoxModel",
            "_view_count": null,
            "_view_module": "@jupyter-widgets/controls",
            "_view_module_version": "1.5.0",
            "_view_name": "HBoxView",
            "box_style": "",
            "children": [
              "IPY_MODEL_1925911171c04d29b221755ccecec0b2",
              "IPY_MODEL_df0be5815bdd4469a9e0115e40232e73",
              "IPY_MODEL_c2b706fdf808451395b06b5afb11088e"
            ],
            "layout": "IPY_MODEL_e2f9fb2837e34bceb7e20a0dcb19399f"
          }
        },
        "df0be5815bdd4469a9e0115e40232e73": {
          "model_module": "@jupyter-widgets/controls",
          "model_module_version": "1.5.0",
          "model_name": "FloatProgressModel",
          "state": {
            "_dom_classes": [],
            "_model_module": "@jupyter-widgets/controls",
            "_model_module_version": "1.5.0",
            "_model_name": "FloatProgressModel",
            "_view_count": null,
            "_view_module": "@jupyter-widgets/controls",
            "_view_module_version": "1.5.0",
            "_view_name": "ProgressView",
            "bar_style": "success",
            "description": "",
            "description_tooltip": null,
            "layout": "IPY_MODEL_be824ca799fc474abe8a91b2d9a70f0b",
            "max": 1,
            "min": 0,
            "orientation": "horizontal",
            "style": "IPY_MODEL_ffcd70764b1b4540b6e3bdaee06e39b4",
            "value": 1
          }
        },
        "e2f9fb2837e34bceb7e20a0dcb19399f": {
          "model_module": "@jupyter-widgets/base",
          "model_module_version": "1.2.0",
          "model_name": "LayoutModel",
          "state": {
            "_model_module": "@jupyter-widgets/base",
            "_model_module_version": "1.2.0",
            "_model_name": "LayoutModel",
            "_view_count": null,
            "_view_module": "@jupyter-widgets/base",
            "_view_module_version": "1.2.0",
            "_view_name": "LayoutView",
            "align_content": null,
            "align_items": null,
            "align_self": null,
            "border": null,
            "bottom": null,
            "display": null,
            "flex": null,
            "flex_flow": null,
            "grid_area": null,
            "grid_auto_columns": null,
            "grid_auto_flow": null,
            "grid_auto_rows": null,
            "grid_column": null,
            "grid_gap": null,
            "grid_row": null,
            "grid_template_areas": null,
            "grid_template_columns": null,
            "grid_template_rows": null,
            "height": null,
            "justify_content": null,
            "justify_items": null,
            "left": null,
            "margin": null,
            "max_height": null,
            "max_width": null,
            "min_height": null,
            "min_width": null,
            "object_fit": null,
            "object_position": null,
            "order": null,
            "overflow": null,
            "overflow_x": null,
            "overflow_y": null,
            "padding": null,
            "right": null,
            "top": null,
            "visibility": null,
            "width": null
          }
        },
        "ffcd70764b1b4540b6e3bdaee06e39b4": {
          "model_module": "@jupyter-widgets/controls",
          "model_module_version": "1.5.0",
          "model_name": "ProgressStyleModel",
          "state": {
            "_model_module": "@jupyter-widgets/controls",
            "_model_module_version": "1.5.0",
            "_model_name": "ProgressStyleModel",
            "_view_count": null,
            "_view_module": "@jupyter-widgets/base",
            "_view_module_version": "1.2.0",
            "_view_name": "StyleView",
            "bar_color": null,
            "description_width": ""
          }
        }
      }
    }
  },
  "nbformat": 4,
  "nbformat_minor": 0
}
