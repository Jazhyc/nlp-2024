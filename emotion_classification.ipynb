{
  "cells": [
    {
      "cell_type": "markdown",
      "metadata": {
        "id": "fG4arWHyOmYa"
      },
      "source": [
        "# Emotion Classification with the WASSA-2022 emotion dataset\n",
        "\n",
        "In this notebook, we will use a state of the art technique from [AdityaPatkar](https://aclanthology.org/2023.wassa-1.46/) to perform emotion classification using the WASSA 2022 emotion dataset. The authors utilize a fine-tuned RoBERTa model and achieved state of the art performance through the usage of complex feature engineering and overfitting techniques. We will attempt to replicate their results using a similar approach."
      ]
    },
    {
      "cell_type": "markdown",
      "metadata": {
        "id": "KeCfVM6POmYb"
      },
      "source": [
        "## Imports and Constants"
      ]
    },
    {
      "cell_type": "code",
      "execution_count": 1,
      "metadata": {
        "id": "uBSBk9lVOmYc"
      },
      "outputs": [],
      "source": [
        "import transformers\n",
        "import torch\n",
        "\n",
        "import pandas as pd\n",
        "import seaborn as sns\n",
        "import matplotlib.pyplot as plt\n",
        "import itertools\n",
        "\n",
        "from tqdm.notebook import tqdm\n",
        "from torch.utils.data import DataLoader, Dataset\n",
        "from torch.nn.utils.rnn import pad_sequence\n",
        "from transformers import AutoTokenizer, AutoModelForSequenceClassification\n",
        "from sklearn.model_selection import train_test_split\n",
        "\n",
        "# Constant value due to memory constraints\n",
        "# Should roughly fit in Batch size/2 GBs of VRAM with our implementation\n",
        "BATCH_SIZE = 32\n"
      ]
    },
    {
      "cell_type": "markdown",
      "metadata": {
        "id": "POkJvaUHOmYc"
      },
      "source": [
        "## Loading the Dataset\n",
        "\n",
        "We observe that the dataset is a csv file, however semi-colons are used as a separator. Additionally, the labels need to be mapped to numerical values. We will load the dataset and perform these operations."
      ]
    },
    {
      "cell_type": "code",
      "execution_count": 2,
      "metadata": {
        "colab": {
          "base_uri": "https://localhost:8080/",
          "height": 206
        },
        "id": "Vnyu-KbkOmYc",
        "outputId": "b61d2ede-9d81-42ca-e0d6-e80f574ca0ec"
      },
      "outputs": [
        {
          "data": {
            "text/html": [
              "<div>\n",
              "<style scoped>\n",
              "    .dataframe tbody tr th:only-of-type {\n",
              "        vertical-align: middle;\n",
              "    }\n",
              "\n",
              "    .dataframe tbody tr th {\n",
              "        vertical-align: top;\n",
              "    }\n",
              "\n",
              "    .dataframe thead th {\n",
              "        text-align: right;\n",
              "    }\n",
              "</style>\n",
              "<table border=\"1\" class=\"dataframe\">\n",
              "  <thead>\n",
              "    <tr style=\"text-align: right;\">\n",
              "      <th></th>\n",
              "      <th>article_id</th>\n",
              "      <th>essay</th>\n",
              "      <th>emotion</th>\n",
              "    </tr>\n",
              "  </thead>\n",
              "  <tbody>\n",
              "    <tr>\n",
              "      <th>0</th>\n",
              "      <td>67</td>\n",
              "      <td>it is really diheartening to read about these ...</td>\n",
              "      <td>sadness</td>\n",
              "    </tr>\n",
              "    <tr>\n",
              "      <th>1</th>\n",
              "      <td>86</td>\n",
              "      <td>the phone lines from the suicide prevention li...</td>\n",
              "      <td>sadness</td>\n",
              "    </tr>\n",
              "    <tr>\n",
              "      <th>2</th>\n",
              "      <td>206</td>\n",
              "      <td>no matter what your heritage, you should be ab...</td>\n",
              "      <td>neutral</td>\n",
              "    </tr>\n",
              "    <tr>\n",
              "      <th>3</th>\n",
              "      <td>290</td>\n",
              "      <td>it is frightening to learn about all these sha...</td>\n",
              "      <td>fear</td>\n",
              "    </tr>\n",
              "    <tr>\n",
              "      <th>4</th>\n",
              "      <td>342</td>\n",
              "      <td>the eldest generation of russians aren't being...</td>\n",
              "      <td>sadness</td>\n",
              "    </tr>\n",
              "  </tbody>\n",
              "</table>\n",
              "</div>"
            ],
            "text/plain": [
              "   article_id                                              essay  emotion\n",
              "0          67  it is really diheartening to read about these ...  sadness\n",
              "1          86  the phone lines from the suicide prevention li...  sadness\n",
              "2         206  no matter what your heritage, you should be ab...  neutral\n",
              "3         290  it is frightening to learn about all these sha...     fear\n",
              "4         342  the eldest generation of russians aren't being...  sadness"
            ]
          },
          "execution_count": 2,
          "metadata": {},
          "output_type": "execute_result"
        }
      ],
      "source": [
        "# Load the dataset\n",
        "train = pd.read_csv('train_ready_for_WS.csv', encoding='utf-8', sep=';')\n",
        "test = pd.read_csv('test.csv', encoding='utf-8', sep=';')\n",
        "\n",
        "train.head()"
      ]
    },
    {
      "cell_type": "code",
      "execution_count": 3,
      "metadata": {
        "colab": {
          "base_uri": "https://localhost:8080/",
          "height": 269
        },
        "id": "1T3LFleNOmYc",
        "outputId": "3a59c584-2ac0-466f-b3a1-da0bc16c1c36"
      },
      "outputs": [
        {
          "data": {
            "text/html": [
              "<div>\n",
              "<style scoped>\n",
              "    .dataframe tbody tr th:only-of-type {\n",
              "        vertical-align: middle;\n",
              "    }\n",
              "\n",
              "    .dataframe tbody tr th {\n",
              "        vertical-align: top;\n",
              "    }\n",
              "\n",
              "    .dataframe thead th {\n",
              "        text-align: right;\n",
              "    }\n",
              "</style>\n",
              "<table border=\"1\" class=\"dataframe\">\n",
              "  <thead>\n",
              "    <tr style=\"text-align: right;\">\n",
              "      <th></th>\n",
              "      <th>emotion</th>\n",
              "      <th>label</th>\n",
              "    </tr>\n",
              "  </thead>\n",
              "  <tbody>\n",
              "    <tr>\n",
              "      <th>0</th>\n",
              "      <td>sadness</td>\n",
              "      <td>0</td>\n",
              "    </tr>\n",
              "    <tr>\n",
              "      <th>1</th>\n",
              "      <td>neutral</td>\n",
              "      <td>1</td>\n",
              "    </tr>\n",
              "    <tr>\n",
              "      <th>2</th>\n",
              "      <td>fear</td>\n",
              "      <td>2</td>\n",
              "    </tr>\n",
              "    <tr>\n",
              "      <th>3</th>\n",
              "      <td>anger</td>\n",
              "      <td>3</td>\n",
              "    </tr>\n",
              "    <tr>\n",
              "      <th>4</th>\n",
              "      <td>disgust</td>\n",
              "      <td>4</td>\n",
              "    </tr>\n",
              "    <tr>\n",
              "      <th>5</th>\n",
              "      <td>surprise</td>\n",
              "      <td>5</td>\n",
              "    </tr>\n",
              "    <tr>\n",
              "      <th>6</th>\n",
              "      <td>joy</td>\n",
              "      <td>6</td>\n",
              "    </tr>\n",
              "  </tbody>\n",
              "</table>\n",
              "</div>"
            ],
            "text/plain": [
              "    emotion  label\n",
              "0   sadness      0\n",
              "1   neutral      1\n",
              "2      fear      2\n",
              "3     anger      3\n",
              "4   disgust      4\n",
              "5  surprise      5\n",
              "6       joy      6"
            ]
          },
          "execution_count": 3,
          "metadata": {},
          "output_type": "execute_result"
        }
      ],
      "source": [
        "# Obtain emotion mapping from the dataset\n",
        "emotions = train['emotion'].unique()\n",
        "emotion_map = {emotion: idx for idx, emotion in enumerate(emotions)}\n",
        "\n",
        "# Convert map to dataframe\n",
        "emotion_map_df = pd.DataFrame(emotion_map.items(), columns=['emotion', 'label'])\n",
        "emotion_map_df"
      ]
    },
    {
      "cell_type": "code",
      "execution_count": 4,
      "metadata": {
        "colab": {
          "base_uri": "https://localhost:8080/",
          "height": 206
        },
        "id": "UDZuiBYQOmYc",
        "outputId": "5c5940d5-1640-4dca-a56f-c9eea34dd4fd"
      },
      "outputs": [
        {
          "data": {
            "text/html": [
              "<div>\n",
              "<style scoped>\n",
              "    .dataframe tbody tr th:only-of-type {\n",
              "        vertical-align: middle;\n",
              "    }\n",
              "\n",
              "    .dataframe tbody tr th {\n",
              "        vertical-align: top;\n",
              "    }\n",
              "\n",
              "    .dataframe thead th {\n",
              "        text-align: right;\n",
              "    }\n",
              "</style>\n",
              "<table border=\"1\" class=\"dataframe\">\n",
              "  <thead>\n",
              "    <tr style=\"text-align: right;\">\n",
              "      <th></th>\n",
              "      <th>article_id</th>\n",
              "      <th>essay</th>\n",
              "      <th>emotion</th>\n",
              "    </tr>\n",
              "  </thead>\n",
              "  <tbody>\n",
              "    <tr>\n",
              "      <th>0</th>\n",
              "      <td>67</td>\n",
              "      <td>it is really diheartening to read about these ...</td>\n",
              "      <td>0</td>\n",
              "    </tr>\n",
              "    <tr>\n",
              "      <th>1</th>\n",
              "      <td>86</td>\n",
              "      <td>the phone lines from the suicide prevention li...</td>\n",
              "      <td>0</td>\n",
              "    </tr>\n",
              "    <tr>\n",
              "      <th>2</th>\n",
              "      <td>206</td>\n",
              "      <td>no matter what your heritage, you should be ab...</td>\n",
              "      <td>1</td>\n",
              "    </tr>\n",
              "    <tr>\n",
              "      <th>3</th>\n",
              "      <td>290</td>\n",
              "      <td>it is frightening to learn about all these sha...</td>\n",
              "      <td>2</td>\n",
              "    </tr>\n",
              "    <tr>\n",
              "      <th>4</th>\n",
              "      <td>342</td>\n",
              "      <td>the eldest generation of russians aren't being...</td>\n",
              "      <td>0</td>\n",
              "    </tr>\n",
              "  </tbody>\n",
              "</table>\n",
              "</div>"
            ],
            "text/plain": [
              "   article_id                                              essay  emotion\n",
              "0          67  it is really diheartening to read about these ...        0\n",
              "1          86  the phone lines from the suicide prevention li...        0\n",
              "2         206  no matter what your heritage, you should be ab...        1\n",
              "3         290  it is frightening to learn about all these sha...        2\n",
              "4         342  the eldest generation of russians aren't being...        0"
            ]
          },
          "execution_count": 4,
          "metadata": {},
          "output_type": "execute_result"
        }
      ],
      "source": [
        "# Apply the mapping to the datasets\n",
        "train_encoded = train.copy()\n",
        "train_encoded['emotion'] = train_encoded['emotion'].map(emotion_map)\n",
        "\n",
        "test_encoded = test.copy()\n",
        "test_encoded['emotion'] = test_encoded['emotion'].map(emotion_map)\n",
        "\n",
        "train_encoded.head()"
      ]
    },
    {
      "cell_type": "markdown",
      "metadata": {
        "id": "8cuBvfknOmYc"
      },
      "source": [
        "## Exploratory Data Analysis\n",
        "\n",
        "We will perform some basic exploratory data analysis to understand the dataset better. This will include visualizing the distribution of the labels, and the distribution of the number of words in the text. To prevent data leakage, we will only examine the training set."
      ]
    },
    {
      "cell_type": "code",
      "execution_count": 5,
      "metadata": {
        "id": "AaLZ9HOYOmYd",
        "outputId": "35e1dafe-c12c-4f16-964a-d330787582e7"
      },
      "outputs": [
        {
          "data": {
            "text/plain": [
              "<Axes: xlabel='emotion', ylabel='count'>"
            ]
          },
          "execution_count": 5,
          "metadata": {},
          "output_type": "execute_result"
        },
        {
          "data": {
            "image/png": "[encoded data removed]",
            "text/plain": [
              "<Figure size 640x480 with 1 Axes>"
            ]
          },
          "metadata": {},
          "output_type": "display_data"
        }
      ],
      "source": [
        "# Plot the distribution of the emotions, emotion is a categorical variable\n",
        "sns.countplot(x=train['emotion'])"
      ]
    },
    {
      "cell_type": "code",
      "execution_count": 6,
      "metadata": {
        "id": "Ku40m-HUOmYd",
        "outputId": "510f8b86-1657-472a-b5ca-8797426b5d29"
      },
      "outputs": [
        {
          "name": "stdout",
          "output_type": "stream",
          "text": [
            "article_id    0\n",
            "essay         0\n",
            "emotion       0\n",
            "dtype: int64\n"
          ]
        }
      ],
      "source": [
        "# Check for NA values\n",
        "print(train.isna().sum())"
      ]
    },
    {
      "cell_type": "code",
      "execution_count": 7,
      "metadata": {
        "id": "7cJ18GTWOmYd",
        "outputId": "edfad201-2917-46c7-8640-e8ac1182576d"
      },
      "outputs": [
        {
          "data": {
            "text/plain": [
              "<Axes: xlabel='Number of Words', ylabel='Count'>"
            ]
          },
          "execution_count": 7,
          "metadata": {},
          "output_type": "execute_result"
        },
        {
          "data": {
            "image/png": "[encoded data removed]",
            "text/plain": [
              "<Figure size 640x480 with 1 Axes>"
            ]
          },
          "metadata": {},
          "output_type": "display_data"
        }
      ],
      "source": [
        "# Plot the distribution of number of words in an essay\n",
        "train['Number of Words'] = train['essay'].apply(lambda x: len(x.split()))\n",
        "sns.histplot(train['Number of Words'])"
      ]
    },
    {
      "cell_type": "markdown",
      "metadata": {
        "id": "w9hzfjRKOmYd"
      },
      "source": [
        "From this basic investigation, we observe that there is a severe class imbalance in the dataset. Additionally, the size of an essay varies greatly with the average hovering around 60 words. We can easily address this issue using a transformer model which can handle variable length inputs due to its attention mechanism."
      ]
    },
    {
      "cell_type": "markdown",
      "metadata": {
        "id": "GoxMBgKsOmYd"
      },
      "source": [
        "## Preprocessing\n",
        "\n",
        "We are using transformers which require minimal text pre-processing as they are designed to handle raw text. However, we will need to tokenize the text and convert it to a format that the model can understand. We will also need to address the class imbalance in the dataset using class weights. Additionally, we will split the training set into a training and validation set."
      ]
    },
    {
      "cell_type": "code",
      "execution_count": 8,
      "metadata": {},
      "outputs": [
        {
          "data": {
            "text/html": [
              "<div>\n",
              "<style scoped>\n",
              "    .dataframe tbody tr th:only-of-type {\n",
              "        vertical-align: middle;\n",
              "    }\n",
              "\n",
              "    .dataframe tbody tr th {\n",
              "        vertical-align: top;\n",
              "    }\n",
              "\n",
              "    .dataframe thead th {\n",
              "        text-align: right;\n",
              "    }\n",
              "</style>\n",
              "<table border=\"1\" class=\"dataframe\">\n",
              "  <thead>\n",
              "    <tr style=\"text-align: right;\">\n",
              "      <th></th>\n",
              "      <th>emotion</th>\n",
              "      <th>label</th>\n",
              "      <th>count</th>\n",
              "    </tr>\n",
              "  </thead>\n",
              "  <tbody>\n",
              "    <tr>\n",
              "      <th>0</th>\n",
              "      <td>sadness</td>\n",
              "      <td>0</td>\n",
              "      <td>0.410687</td>\n",
              "    </tr>\n",
              "    <tr>\n",
              "      <th>1</th>\n",
              "      <td>neutral</td>\n",
              "      <td>1</td>\n",
              "      <td>0.966234</td>\n",
              "    </tr>\n",
              "    <tr>\n",
              "      <th>2</th>\n",
              "      <td>fear</td>\n",
              "      <td>2</td>\n",
              "      <td>1.369661</td>\n",
              "    </tr>\n",
              "    <tr>\n",
              "      <th>3</th>\n",
              "      <td>anger</td>\n",
              "      <td>3</td>\n",
              "      <td>0.761359</td>\n",
              "    </tr>\n",
              "    <tr>\n",
              "      <th>4</th>\n",
              "      <td>disgust</td>\n",
              "      <td>4</td>\n",
              "      <td>1.783317</td>\n",
              "    </tr>\n",
              "    <tr>\n",
              "      <th>5</th>\n",
              "      <td>surprise</td>\n",
              "      <td>5</td>\n",
              "      <td>1.620209</td>\n",
              "    </tr>\n",
              "    <tr>\n",
              "      <th>6</th>\n",
              "      <td>joy</td>\n",
              "      <td>6</td>\n",
              "      <td>3.240418</td>\n",
              "    </tr>\n",
              "  </tbody>\n",
              "</table>\n",
              "</div>"
            ],
            "text/plain": [
              "    emotion  label     count\n",
              "0   sadness      0  0.410687\n",
              "1   neutral      1  0.966234\n",
              "2      fear      2  1.369661\n",
              "3     anger      3  0.761359\n",
              "4   disgust      4  1.783317\n",
              "5  surprise      5  1.620209\n",
              "6       joy      6  3.240418"
            ]
          },
          "execution_count": 8,
          "metadata": {},
          "output_type": "execute_result"
        }
      ],
      "source": [
        "# Compute the class weights and add to the mapping dataframe\n",
        "# We compute the class weights as w_i = N / (k * n_i)\n",
        "# where N is the total number of samples, k is the number of classes and n_i is the number of samples in class i\n",
        "\n",
        "# Compute class counts\n",
        "class_counts = train['emotion'].value_counts()\n",
        "class_weights = len(train) / (len(emotions) * class_counts)\n",
        "\n",
        "# Convert to dataframe\n",
        "class_weights_df = pd.DataFrame(class_weights)\n",
        "class_weights_df.reset_index(inplace=True)\n",
        "\n",
        "# Merge with emotion_map_df using emotion column\n",
        "emotion_map_df = emotion_map_df.merge(class_weights_df, on=\"emotion\")\n",
        "emotion_map_df"
      ]
    },
    {
      "cell_type": "code",
      "execution_count": 9,
      "metadata": {},
      "outputs": [
        {
          "data": {
            "text/html": [
              "<div>\n",
              "<style scoped>\n",
              "    .dataframe tbody tr th:only-of-type {\n",
              "        vertical-align: middle;\n",
              "    }\n",
              "\n",
              "    .dataframe tbody tr th {\n",
              "        vertical-align: top;\n",
              "    }\n",
              "\n",
              "    .dataframe thead th {\n",
              "        text-align: right;\n",
              "    }\n",
              "</style>\n",
              "<table border=\"1\" class=\"dataframe\">\n",
              "  <thead>\n",
              "    <tr style=\"text-align: right;\">\n",
              "      <th></th>\n",
              "      <th>article_id</th>\n",
              "      <th>essay</th>\n",
              "      <th>emotion</th>\n",
              "      <th>class_weight</th>\n",
              "    </tr>\n",
              "  </thead>\n",
              "  <tbody>\n",
              "    <tr>\n",
              "      <th>0</th>\n",
              "      <td>67</td>\n",
              "      <td>it is really diheartening to read about these ...</td>\n",
              "      <td>0</td>\n",
              "      <td>0.410687</td>\n",
              "    </tr>\n",
              "    <tr>\n",
              "      <th>1</th>\n",
              "      <td>86</td>\n",
              "      <td>the phone lines from the suicide prevention li...</td>\n",
              "      <td>0</td>\n",
              "      <td>0.410687</td>\n",
              "    </tr>\n",
              "    <tr>\n",
              "      <th>2</th>\n",
              "      <td>206</td>\n",
              "      <td>no matter what your heritage, you should be ab...</td>\n",
              "      <td>1</td>\n",
              "      <td>0.966234</td>\n",
              "    </tr>\n",
              "    <tr>\n",
              "      <th>3</th>\n",
              "      <td>290</td>\n",
              "      <td>it is frightening to learn about all these sha...</td>\n",
              "      <td>2</td>\n",
              "      <td>1.369661</td>\n",
              "    </tr>\n",
              "    <tr>\n",
              "      <th>4</th>\n",
              "      <td>342</td>\n",
              "      <td>the eldest generation of russians aren't being...</td>\n",
              "      <td>0</td>\n",
              "      <td>0.410687</td>\n",
              "    </tr>\n",
              "  </tbody>\n",
              "</table>\n",
              "</div>"
            ],
            "text/plain": [
              "   article_id                                              essay  emotion  \\\n",
              "0          67  it is really diheartening to read about these ...        0   \n",
              "1          86  the phone lines from the suicide prevention li...        0   \n",
              "2         206  no matter what your heritage, you should be ab...        1   \n",
              "3         290  it is frightening to learn about all these sha...        2   \n",
              "4         342  the eldest generation of russians aren't being...        0   \n",
              "\n",
              "   class_weight  \n",
              "0      0.410687  \n",
              "1      0.410687  \n",
              "2      0.966234  \n",
              "3      1.369661  \n",
              "4      0.410687  "
            ]
          },
          "execution_count": 9,
          "metadata": {},
          "output_type": "execute_result"
        }
      ],
      "source": [
        "for idx, row in emotion_map_df.iterrows():\n",
        "    train_encoded.loc[train_encoded['emotion'] == row['label'], 'class_weight'] = row['count']\n",
        "    test_encoded.loc[test_encoded['emotion'] == row['label'], 'class_weight'] = row['count']\n",
        "\n",
        "train_encoded.head()"
      ]
    },
    {
      "cell_type": "code",
      "execution_count": 10,
      "metadata": {
        "id": "yk_En_MsOmYd"
      },
      "outputs": [],
      "source": [
        "# Split the dataset into training and validation\n",
        "train_df, val_df = train_test_split(train_encoded, test_size=0.3)"
      ]
    },
    {
      "cell_type": "code",
      "execution_count": 11,
      "metadata": {
        "id": "pOjt2aIVOmYd"
      },
      "outputs": [],
      "source": [
        "# Create pytorch dataset\n",
        "class EmotionDataset(Dataset):\n",
        "    def __init__(self, data, tokenizer):\n",
        "        self.data = data\n",
        "        self.tokenizer = tokenizer\n",
        "        \n",
        "        # Get max length from tokenizer\n",
        "        self.max_length = tokenizer.model_max_length\n",
        "\n",
        "    def __len__(self):\n",
        "        return len(self.data)\n",
        "\n",
        "    def __getitem__(self, idx):\n",
        "        essay = self.data.iloc[idx]['essay']\n",
        "        label = self.data.iloc[idx]['emotion']\n",
        "        weight = self.data.iloc[idx]['class_weight']\n",
        "\n",
        "        encoding = self.tokenizer.encode_plus(\n",
        "            essay,\n",
        "            add_special_tokens=True,\n",
        "            max_length=self.max_length,\n",
        "            return_token_type_ids=False,\n",
        "            return_attention_mask=True,\n",
        "            return_tensors='pt',\n",
        "            truncation=True\n",
        "        )\n",
        "\n",
        "        return {\n",
        "            'essay': essay,\n",
        "            'input_ids': encoding['input_ids'],\n",
        "            'attention_mask': encoding['attention_mask'],\n",
        "            'label': torch.tensor(label, dtype=torch.long),\n",
        "            'weight': torch.tensor(weight, dtype=torch.float)\n",
        "        }"
      ]
    },
    {
      "cell_type": "code",
      "execution_count": 12,
      "metadata": {},
      "outputs": [],
      "source": [
        "def emotion_collate(batch):\n",
        "\n",
        "    input_ids = [item['input_ids'].squeeze(0) for item in batch]  # List of tensors\n",
        "    attention_mask = [item['attention_mask'].squeeze(0) for item in batch]  # List of tensors\n",
        "    label = torch.stack([item['label'] for item in batch])\n",
        "    weight = torch.stack([item['weight'] for item in batch])\n",
        "\n",
        "    # Pad the input_ids and attention_mask\n",
        "    input_ids = pad_sequence(input_ids, batch_first=True, padding_value=tokenizer.pad_token_id) \n",
        "    attention_mask = pad_sequence(attention_mask, batch_first=True, padding_value=0)\n",
        "\n",
        "    return {\n",
        "        'input_ids': input_ids,\n",
        "        'attention_mask': attention_mask,\n",
        "        'label': label,\n",
        "        'weight': weight\n",
        "    }"
      ]
    },
    {
      "cell_type": "code",
      "execution_count": 13,
      "metadata": {
        "id": "5cKoSizUOmYd"
      },
      "outputs": [],
      "source": [
        "# Create Dataloader which is used to iterate over the dataset\n",
        "def create_dataloader(data, tokenizer, batch_size):\n",
        "    dataset = EmotionDataset(data, tokenizer)\n",
        "    return DataLoader(dataset, batch_size=batch_size, shuffle=True, collate_fn=emotion_collate)"
      ]
    },
    {
      "cell_type": "code",
      "execution_count": 14,
      "metadata": {
        "id": "YJk6XMh5OmYd"
      },
      "outputs": [],
      "source": [
        "# Obtain roberta tokenizer and create dataloader for dataset\n",
        "tokenizer = AutoTokenizer.from_pretrained('roberta-base')\n",
        "train_loader = create_dataloader(train_df, tokenizer, BATCH_SIZE)\n",
        "val_loader = create_dataloader(val_df, tokenizer, BATCH_SIZE)\n",
        "test_loader = create_dataloader(test_encoded, tokenizer, BATCH_SIZE)"
      ]
    },
    {
      "cell_type": "markdown",
      "metadata": {
        "id": "eGrt12isOmYd"
      },
      "source": [
        "## Model Creation\n",
        "\n",
        "Creation of classes required for the model which take hyperparameters as input. Note that RoBERTa is case sensitive which is why we did not convert the text to lowercase during preprocessing."
      ]
    },
    {
      "cell_type": "code",
      "execution_count": 15,
      "metadata": {},
      "outputs": [],
      "source": [
        "def process_batch(model, device, batch):\n",
        "    \"\"\"\n",
        "    Process a batch by using the input_ids and attention_mask\n",
        "    Returns the loss and the number of correct predictions\n",
        "    \"\"\"\n",
        "    input_ids = batch['input_ids'].to(device)\n",
        "    attention_mask = batch['attention_mask'].to(device)\n",
        "    labels = batch['label'].to(device)\n",
        "    outputs = model(input_ids, attention_mask=attention_mask, labels=labels)\n",
        "\n",
        "    # Get number of correct predictions\n",
        "    preds = torch.argmax(outputs.logits, dim=1)\n",
        "    correct_predictions = (preds == labels).float()\n",
        "\n",
        "    # Get the loss taking class weights into account\n",
        "    loss = outputs.loss * batch['weight'].to(device)\n",
        "    loss = loss.mean()\n",
        "\n",
        "    return loss, correct_predictions\n"
      ]
    },
    {
      "cell_type": "code",
      "execution_count": 16,
      "metadata": {},
      "outputs": [],
      "source": [
        "def train_model(model, optimizer, device, dataset):\n",
        "    \"\"\"\n",
        "    Train the model\n",
        "    \"\"\"\n",
        "    model.train()\n",
        "    total_loss = 0\n",
        "    for batch in dataset:\n",
        "        optimizer.zero_grad()\n",
        "        loss, _ = process_batch(model, device, batch)\n",
        "        total_loss += loss.item()\n",
        "        loss.backward()\n",
        "        optimizer.step()\n",
        "    return total_loss / len(dataset)"
      ]
    },
    {
      "cell_type": "code",
      "execution_count": 17,
      "metadata": {},
      "outputs": [],
      "source": [
        "def evaluate_model(model, device, dataset):\n",
        "    \"\"\"\n",
        "    Evaluate the model\n",
        "    \"\"\"\n",
        "    model.eval()\n",
        "    total_loss = 0\n",
        "    with torch.no_grad():\n",
        "        for batch in dataset:\n",
        "            loss, _ = process_batch(model, device, batch)\n",
        "            total_loss += loss.item()\n",
        "    return total_loss / len(dataset)"
      ]
    },
    {
      "cell_type": "code",
      "execution_count": 18,
      "metadata": {
        "colab": {
          "base_uri": "https://localhost:8080/",
          "height": 211
        },
        "id": "4_nu2mcDRrvl",
        "outputId": "999f6bea-1609-4f29-fba8-ec28ecd3856e"
      },
      "outputs": [],
      "source": [
        "def train_configuration(model, optimizer, device, train_loader, val_loader, epochs):\n",
        "    \"\"\"\n",
        "    Train the model for a number of epochs and return the train and validation losses\n",
        "    \"\"\"\n",
        "    train_losses = []\n",
        "    val_losses = []\n",
        "\n",
        "    for epoch in range(epochs):\n",
        "        train_loss = train_model(model, optimizer, device, train_loader)\n",
        "        val_loss = evaluate_model(model, device, val_loader)\n",
        "        train_losses.append(train_loss)\n",
        "        val_losses.append(val_loss)\n",
        "\n",
        "    return train_losses, val_losses"
      ]
    },
    {
      "cell_type": "markdown",
      "metadata": {},
      "source": [
        "## Model Training\n",
        "\n",
        "Training loop with hyperparameter tuning"
      ]
    },
    {
      "cell_type": "code",
      "execution_count": 19,
      "metadata": {},
      "outputs": [],
      "source": [
        "hyperparameters = {\n",
        "    \"learning_rate\": [1e-5, 2e-5, 3e-5, 4e-5],\n",
        "    \"epochs\": [3, 5, 10]\n",
        "}"
      ]
    },
    {
      "cell_type": "code",
      "execution_count": null,
      "metadata": {},
      "outputs": [],
      "source": [
        "# Create a dataframe to store the hyperparameters and the corresponding losses\n",
        "# Use the hyper-parameter keys as columns\n",
        "model_configuration_df = pd.DataFrame(columns=list(hyperparameters.keys()) + ['train_losses', 'val_losses'])\n",
        "device = torch.device(\"cuda\" if torch.cuda.is_available() else \"cpu\")\n",
        "\n",
        "# Iterate over the hyperparameters combinations and train the model\n",
        "# The combination is be a dictionary with the same keys as the hyperparameters dictionary\n",
        "for combination in tqdm(list(itertools.product(*hyperparameters.values())), desc='Hyperparameter combinations'):\n",
        "\n",
        "    # Create a dictionary with the hyperparameters\n",
        "    params = {key: value for key, value in zip(hyperparameters.keys(), combination)}\n",
        "    print(params)\n",
        "\n",
        "    # Train the model\n",
        "    model = AutoModelForSequenceClassification.from_pretrained('roberta-base', num_labels=len(emotions))\n",
        "    optimizer = torch.optim.AdamW(model.parameters(), lr=params['learning_rate'])\n",
        "    model.to(device)\n",
        "\n",
        "    # Train the model and obtain the train and validation losses\n",
        "    train_losses, val_losses = train_configuration(model, optimizer, device, train_loader, val_loader, epochs=params['epochs'])\n",
        "\n",
        "    # Add the hyperparameters and the corresponding losses to the dataframe\n",
        "    model_configuration_df.loc[len(model_configuration_df)] = list(params.values()) + [train_losses, val_losses]"
      ]
    },
    {
      "cell_type": "code",
      "execution_count": null,
      "metadata": {},
      "outputs": [],
      "source": [
        "def plot_losses(train_losses, val_losses):\n",
        "\n",
        "    # Plot the training and validation losses\n",
        "    plt.plot(train_losses, label='Training')\n",
        "    plt.plot(val_losses, label='Validation')\n",
        "    plt.legend()\n",
        "\n",
        "    # Label the axes and title\n",
        "    plt.xlabel('Epoch')\n",
        "    plt.ylabel('Loss')\n",
        "    plt.title('Training and Validation Loss over Epochs')\n",
        "\n",
        "    # Make x axis discrete\n",
        "    plt.xticks(range(len(train_losses)))\n",
        "    plt.show()"
      ]
    },
    {
      "cell_type": "code",
      "execution_count": null,
      "metadata": {},
      "outputs": [
        {
          "data": {
            "image/png": "[encoded data removed]",
            "text/plain": [
              "<Figure size 640x480 with 1 Axes>"
            ]
          },
          "metadata": {},
          "output_type": "display_data"
        }
      ],
      "source": [
        "# Create a new column 'last_val_loss' that contains the last validation loss for each row\n",
        "model_configuration_df['last_val_loss'] = model_configuration_df['val_losses'].apply(lambda x: x[-1])\n",
        "\n",
        "# Sort the DataFrame by the 'last_val_loss' column\n",
        "sorted_df = model_configuration_df.sort_values(by='last_val_loss', ascending=True)\n",
        "best_configuration = sorted_df.iloc[0]\n",
        "\n",
        "# Plot the losses for the best configuration\n",
        "plot_losses(best_configuration['train_losses'], best_configuration['val_losses'])\n",
        "\n",
        "# Save sorted_df to a csv file\n",
        "sorted_df.to_csv('sorted_df.csv', index=False)"
      ]
    },
    {
      "cell_type": "markdown",
      "metadata": {
        "id": "9uhjF1bSOmYe"
      },
      "source": [
        "## Model Evaluation\n",
        "\n",
        "Macro F1 score, Micro F1 score, precision, recall, confusion matrix"
      ]
    },
    {
      "cell_type": "code",
      "execution_count": null,
      "metadata": {},
      "outputs": [
        {
          "name": "stderr",
          "output_type": "stream",
          "text": [
            "Some weights of RobertaForSequenceClassification were not initialized from the model checkpoint at roberta-base and are newly initialized: ['classifier.dense.bias', 'classifier.dense.weight', 'classifier.out_proj.bias', 'classifier.out_proj.weight']\n",
            "You should probably TRAIN this model on a down-stream task to be able to use it for predictions and inference.\n"
          ]
        }
      ],
      "source": [
        "# Train the model with the best hyperparameters\n",
        "best_model = AutoModelForSequenceClassification.from_pretrained('roberta-base', num_labels=len(emotions))\n",
        "optimizer = torch.optim.AdamW(model.parameters(), lr=best_configuration['learning_rate'])\n",
        "best_model.to(device)\n",
        "\n",
        "# Train the model again since we cannot store the model from the previous training due to the large size\n",
        "# Might be a good idea to combine the training and validation datasets when creating a model for testing\n",
        "train_configuration(best_model, device, train_loader, val_loader, epochs=best_configuration['epochs'])\n"
      ]
    },
    {
      "cell_type": "code",
      "execution_count": null,
      "metadata": {},
      "outputs": [],
      "source": [
        "# Generate predictions here"
      ]
    }
  ],
  "metadata": {
    "colab": {
      "collapsed_sections": [
        "8cuBvfknOmYc"
      ],
      "provenance": []
    },
    "kernelspec": {
      "display_name": "nlp",
      "language": "python",
      "name": "python3"
    },
    "language_info": {
      "codemirror_mode": {
        "name": "ipython",
        "version": 3
      },
      "file_extension": ".py",
      "mimetype": "text/x-python",
      "name": "python",
      "nbconvert_exporter": "python",
      "pygments_lexer": "ipython3",
      "version": "3.11.5"
    }
  },
  "nbformat": 4,
  "nbformat_minor": 0
}
