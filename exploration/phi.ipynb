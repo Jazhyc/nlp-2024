{
  "cells": [
    {
      "cell_type": "markdown",
      "metadata": {
        "id": "ScbBiCThLo3_"
      },
      "source": [
        "Imports:"
      ]
    },
    {
      "cell_type": "code",
      "execution_count": 5,
      "metadata": {
        "id": "aYL14-dALkVi"
      },
      "outputs": [],
      "source": [
        "import json\n",
        "import random\n",
        "import numpy as np\n",
        "import torch\n",
        "from transformers import AutoModelForCausalLM, AutoTokenizer"
      ]
    },
    {
      "cell_type": "markdown",
      "metadata": {
        "id": "11N85EtTMBY2"
      },
      "source": [
        "Load data"
      ]
    },
    {
      "cell_type": "code",
      "execution_count": 7,
      "metadata": {
        "id": "aFqb7nkTL2SA"
      },
      "outputs": [],
      "source": [
        "# Load dev-v2.0.json\n",
        "with open('/content/dev-v2.0.json') as f:\n",
        "    data = json.load(f)"
      ]
    },
    {
      "cell_type": "markdown",
      "metadata": {
        "id": "vxB8zcUTLsYF"
      },
      "source": [
        "Set up Phi 1.5 model"
      ]
    },
    {
      "cell_type": "code",
      "execution_count": 8,
      "metadata": {
        "id": "mAQjYqrH4PaT"
      },
      "outputs": [],
      "source": [
        "torch.set_default_device(\"cuda\")\n",
        "\n",
        "model = AutoModelForCausalLM.from_pretrained(\"microsoft/phi-1_5\", torch_dtype=\"auto\", trust_remote_code=True)\n",
        "tokenizer = AutoTokenizer.from_pretrained(\"microsoft/phi-1_5\", trust_remote_code=True)"
      ]
    },
    {
      "cell_type": "markdown",
      "metadata": {
        "id": "NfOBwenhMKea"
      },
      "source": [
        "Use LLM model to generate the answers"
      ]
    },
    {
      "cell_type": "code",
      "execution_count": null,
      "metadata": {
        "id": "ZxpoW8NRMdqq"
      },
      "outputs": [],
      "source": [
        "answers = []\n",
        "\n",
        "for i in range(len(data['data'])):\n",
        "  prompt = data['data'][i]['paragraphs'][i]['qas'][i]['question']\n",
        "  inputs = tokenizer(prompt, return_tensors=\"pt\", return_attention_mask=False)\n",
        "\n",
        "  outputs = model.generate(**inputs, max_length=200)\n",
        "  text = tokenizer.batch_decode(outputs)[0]\n",
        "  print(text)\n",
        "  answers.append(data['data'][i]['paragraphs'][i]['qas'][i]['id'] + \": \" + text)"
      ]
    }
  ],
  "metadata": {
    "accelerator": "GPU",
    "colab": {
      "gpuType": "T4",
      "provenance": []
    },
    "kernelspec": {
      "display_name": "Python 3",
      "name": "python3"
    },
    "language_info": {
      "name": "python",
      "version": "3.11.5"
    }
  },
  "nbformat": 4,
  "nbformat_minor": 0
}
