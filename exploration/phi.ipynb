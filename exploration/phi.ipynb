{
  "nbformat": 4,
  "nbformat_minor": 0,
  "metadata": {
    "colab": {
      "provenance": [],
      "gpuType": "T4"
    },
    "kernelspec": {
      "name": "python3",
      "display_name": "Python 3"
    },
    "language_info": {
      "name": "python"
    },
    "accelerator": "GPU"
  },
  "cells": [
    {
      "cell_type": "markdown",
      "source": [
        "Imports:"
      ],
      "metadata": {
        "id": "ScbBiCThLo3_"
      }
    },
    {
      "cell_type": "code",
      "source": [
        "import json\n",
        "import random\n",
        "import numpy as np\n",
        "import torch\n",
        "from transformers import AutoModelForCausalLM, AutoTokenizer"
      ],
      "metadata": {
        "id": "aYL14-dALkVi"
      },
      "execution_count": 5,
      "outputs": []
    },
    {
      "cell_type": "markdown",
      "source": [
        "Load data"
      ],
      "metadata": {
        "id": "11N85EtTMBY2"
      }
    },
    {
      "cell_type": "code",
      "source": [
        "# Load dev-v2.0.json\n",
        "with open('/content/dev-v2.0.json') as f:\n",
        "    data = json.load(f)"
      ],
      "metadata": {
        "id": "aFqb7nkTL2SA"
      },
      "execution_count": 7,
      "outputs": []
    },
    {
      "cell_type": "markdown",
      "source": [
        "Set up Phi 1.5 model"
      ],
      "metadata": {
        "id": "vxB8zcUTLsYF"
      }
    },
    {
      "cell_type": "code",
      "execution_count": 8,
      "metadata": {
        "id": "mAQjYqrH4PaT"
      },
      "outputs": [],
      "source": [
        "torch.set_default_device(\"cuda\")\n",
        "\n",
        "model = AutoModelForCausalLM.from_pretrained(\"microsoft/phi-1_5\", torch_dtype=\"auto\", trust_remote_code=True)\n",
        "tokenizer = AutoTokenizer.from_pretrained(\"microsoft/phi-1_5\", trust_remote_code=True)"
      ]
    },
    {
      "cell_type": "markdown",
      "source": [
        "Use LLM model to generate the answers"
      ],
      "metadata": {
        "id": "NfOBwenhMKea"
      }
    },
    {
      "cell_type": "code",
      "source": [
        "answers = []\n",
        "\n",
        "for i in range(len(data['data'])):\n",
        "  prompt = data['data'][i]['paragraphs'][i]['qas'][i]['question']\n",
        "  inputs = tokenizer(prompt, return_tensors=\"pt\", return_attention_mask=False)\n",
        "\n",
        "  outputs = model.generate(**inputs, max_length=200)\n",
        "  text = tokenizer.batch_decode(outputs)[0]\n",
        "  print(text)\n",
        "  answers.append(data['data'][i]['paragraphs'][i]['qas'][i]['id'] + \": \" + text)"
      ],
      "metadata": {
        "id": "ZxpoW8NRMdqq"
      },
      "execution_count": null,
      "outputs": []
    }
  ]
}