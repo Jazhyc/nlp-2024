{
 "cells": [
  {
   "cell_type": "code",
   "execution_count": 1,
   "metadata": {},
   "outputs": [],
   "source": [
    "import json\n",
    "import faiss\n",
    "import random\n",
    "import numpy as np"
   ]
  },
  {
   "cell_type": "markdown",
   "metadata": {},
   "source": [
    "## Loading and Testing"
   ]
  },
  {
   "cell_type": "code",
   "execution_count": 3,
   "metadata": {},
   "outputs": [],
   "source": [
    "# Load dev-v2.0.json\n",
    "with open('../dev-v2.0.json') as f:\n",
    "    data = json.load(f)"
   ]
  },
  {
   "cell_type": "code",
   "execution_count": 3,
   "metadata": {},
   "outputs": [
    {
     "name": "stdout",
     "output_type": "stream",
     "text": [
      "{'question': 'In what country is Normandy located?', 'id': '56ddde6b9a695914005b9628', 'answers': [{'text': 'France', 'answer_start': 159}, {'text': 'France', 'answer_start': 159}, {'text': 'France', 'answer_start': 159}, {'text': 'France', 'answer_start': 159}], 'is_impossible': False}\n"
     ]
    }
   ],
   "source": [
    "# The data is divided as follows:\n",
    "# First there is the version and the data\n",
    "# The data is divided into topics, which are divided into paragraphs for each topic\n",
    "# Each paragraph has a list of qas (questions and answers)\n",
    "\n",
    "# Get relevant data as data['data'][i]['paragraphs'][j]['qas'][k]['question']\n",
    "print(data['data'][0]['paragraphs'][0]['qas'][0])"
   ]
  },
  {
   "cell_type": "code",
   "execution_count": 26,
   "metadata": {},
   "outputs": [
    {
     "name": "stdout",
     "output_type": "stream",
     "text": [
      "Question: In what country is Normandy located?\n",
      "Answer: France\n"
     ]
    }
   ],
   "source": [
    "# Combine the question and the answer text to get the form\n",
    "# question: answer\n",
    "text = \"Question: \" + data['data'][0]['paragraphs'][0]['qas'][0]['question'] + '\\nAnswer: ' + data['data'][0]['paragraphs'][0]['qas'][0]['answers'][0]['text']\n",
    "print(text)"
   ]
  },
  {
   "cell_type": "markdown",
   "metadata": {},
   "source": [
    "## Creating FAISS index for textual embeddings"
   ]
  },
  {
   "cell_type": "code",
   "execution_count": 5,
   "metadata": {},
   "outputs": [],
   "source": [
    "EMBEDDING_DIM = 16\n",
    "NUM_RESULTS = 3\n",
    "\n",
    "def random_embedding(text):\n",
    "    \"Return EMBEDDING_DIM dimensional random vector\"\n",
    "    return [random.random() for i in range(EMBEDDING_DIM)]"
   ]
  },
  {
   "cell_type": "code",
   "execution_count": 6,
   "metadata": {},
   "outputs": [],
   "source": [
    "class EmbeddingDatabase:\n",
    "    \"Database which contains the text in a list and the embeddings in a faiss index\"\n",
    "\n",
    "    def __init__(self, EMBEDDING_DIM):\n",
    "        self.texts = []\n",
    "        self.index = faiss.IndexFlatL2(EMBEDDING_DIM)\n",
    "        self.index_text = faiss.IndexIDMap(self.index)\n",
    "\n",
    "    def add(self, text, embedding):\n",
    "        \"Add the text and the embedding to the database\"\n",
    "        self.texts.append(text)\n",
    "        self.index_text.add_with_ids(np.array([embedding]), np.array([len(self.texts)-1]))\n",
    "\n",
    "    def search(self, query, k=5):\n",
    "        \"Search for the k nearest neighbours of the query\"\n",
    "        D, I = self.index_text.search(np.array([query]), k)\n",
    "        return [(self.texts[i], D[0][j]) for j, i in enumerate(I[0])]\n",
    "    "
   ]
  },
  {
   "cell_type": "code",
   "execution_count": 7,
   "metadata": {},
   "outputs": [],
   "source": [
    "def add_question_answer(question_dict, database):\n",
    "    question = question_dict['question']\n",
    "    if question_dict['is_impossible']:\n",
    "        answer = \"The answer is impossible\"\n",
    "    else:\n",
    "        answer = question_dict['answers'][0]['text']\n",
    "    \n",
    "    text = \"Question: \" + question + '\\nAnswer: ' + answer\n",
    "    embedding = random_embedding(text)\n",
    "\n",
    "    database.add(text, embedding)"
   ]
  },
  {
   "cell_type": "code",
   "execution_count": 8,
   "metadata": {},
   "outputs": [],
   "source": [
    "# Test the database\n",
    "db = EmbeddingDatabase(EMBEDDING_DIM)\n",
    "\n",
    "# Add all the questions and answers from all paragraphs from all topics to the database\n",
    "for topic in data['data']:\n",
    "    for paragraph in topic['paragraphs']:\n",
    "        for question_dict in paragraph['qas']:\n",
    "            add_question_answer(question_dict, db)"
   ]
  },
  {
   "cell_type": "code",
   "execution_count": 9,
   "metadata": {},
   "outputs": [],
   "source": [
    "def get_context(text, database):\n",
    "    \"Converts the text into an embedding and then gets the formatted text of the nearest neighbour\"\n",
    "    embedding = random_embedding(text)\n",
    "    results = database.search(embedding, NUM_RESULTS)\n",
    "    \n",
    "    context = \"Context:\\n\\n\" + \"\\n\\n\".join(result[0] for result in results)\n",
    "\n",
    "    return context"
   ]
  },
  {
   "cell_type": "code",
   "execution_count": 11,
   "metadata": {},
   "outputs": [
    {
     "name": "stdout",
     "output_type": "stream",
     "text": [
      "Context:\n",
      "\n",
      "Question: What time frame doesn't the Seven Years War cover?\n",
      "Answer: The answer is impossible\n",
      "\n",
      "Question: What is R-OOC-R?\n",
      "Answer: The answer is impossible\n",
      "\n",
      "Question: What percentage of married couples had children living with them?\n",
      "Answer: The answer is impossible\n"
     ]
    }
   ],
   "source": [
    "text = \"Question: What is the name of the repository? \\nAnswer: The name of the repository is squad\"\n",
    "context = get_context(text, db)\n",
    "\n",
    "print(context)"
   ]
  }
 ],
 "metadata": {
  "kernelspec": {
   "display_name": "nlp",
   "language": "python",
   "name": "python3"
  },
  "language_info": {
   "codemirror_mode": {
    "name": "ipython",
    "version": 3
   },
   "file_extension": ".py",
   "mimetype": "text/x-python",
   "name": "python",
   "nbconvert_exporter": "python",
   "pygments_lexer": "ipython3",
   "version": "3.11.5"
  }
 },
 "nbformat": 4,
 "nbformat_minor": 2
}
