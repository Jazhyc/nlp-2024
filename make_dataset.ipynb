{
 "cells": [
  {
   "cell_type": "markdown",
   "metadata": {},
   "source": [
    "# Wikipedia Dataset generation\n",
    "\n",
    "In this notebook, we will generate a dataset from Wikipedia articles. We will use the `wikipedia` library to download the articles and then we will extract the text from them. We will only consider the most popular articles in English to prevent our dataset from being too large."
   ]
  },
  {
   "cell_type": "code",
   "execution_count": 24,
   "metadata": {},
   "outputs": [],
   "source": [
    "import wikipediaapi as wiki\n",
    "from tqdm.notebook import tqdm\n",
    "import os\n",
    "import json"
   ]
  },
  {
   "cell_type": "code",
   "execution_count": 3,
   "metadata": {},
   "outputs": [],
   "source": [
    "# Create user agent\n",
    "wiki_wiki = wiki.Wikipedia(\"RUG NLP Q&A\", 'en')"
   ]
  },
  {
   "cell_type": "markdown",
   "metadata": {},
   "source": [
    "## Most Popular Articles\n",
    "\n",
    "We will refer to the Popular pages list on wikipedia to get the most popular articles. We see that there are 1079 links to other pages. We will extract the links and then download the articles."
   ]
  },
  {
   "cell_type": "code",
   "execution_count": 27,
   "metadata": {},
   "outputs": [
    {
     "name": "stdout",
     "output_type": "stream",
     "text": [
      "Found 1079 popular pages\n"
     ]
    }
   ],
   "source": [
    "# Get all pages mentioned in this url https://en.wikipedia.org/wiki/Wikipedia:Popular_pages\n",
    "popular_pages = wiki_wiki.page(\"Wikipedia:Popular_pages\")\n",
    "popular_pages_links = popular_pages.links\n",
    "\n",
    "print(f\"Found {len(popular_pages_links)} popular pages\")"
   ]
  },
  {
   "cell_type": "markdown",
   "metadata": {},
   "source": [
    "We will conform to the medallion standard for the dataset. Thus, we will have raw data, bronze data, silver data, and gold data. The raw data will be the text of the articles. The bronze data will be the processed text of the articles. The silver data will a json file containing the text and the title of the article. The gold data will be the embeddings of each sentence in the article.\n",
    "\n",
    "## Raw Data"
   ]
  },
  {
   "cell_type": "code",
   "execution_count": 23,
   "metadata": {},
   "outputs": [
    {
     "data": {
      "application/vnd.jupyter.widget-view+json": {
       "model_id": "801479b76d0345238bfcba3e85192d3c",
       "version_major": 2,
       "version_minor": 0
      },
      "text/plain": [
       "  0%|          | 0/1079 [00:00<?, ?it/s]"
      ]
     },
     "metadata": {},
     "output_type": "display_data"
    }
   ],
   "source": [
    "# Get the text of all the pages as specified in the links above\n",
    "# Save the text in a file with the name of the page as the file name, save it in data/raw\n",
    "for page in tqdm(popular_pages_links):\n",
    "    page = wiki_wiki.page(page)\n",
    "\n",
    "    # If the file already exists, skip it\n",
    "    if os.path.exists(f\"data/raw/{page.title}.txt\"):\n",
    "        continue\n",
    "    \n",
    "    # Account for pages with / in their name by replacing it with _\n",
    "    file_name = page.title.replace(\"/\", \"_\")\n",
    "\n",
    "    # replace ? with _ in the file name\n",
    "    file_name = file_name.replace(\"?\", \"_\")\n",
    "\n",
    "    with open(f\"data/raw/{file_name}.txt\", \"w\") as f:\n",
    "        f.write(page.text)\n"
   ]
  },
  {
   "cell_type": "markdown",
   "metadata": {},
   "source": [
    "## Bronze Data\n",
    "\n",
    "We will remove the references, external links and see also sections from the articles."
   ]
  },
  {
   "cell_type": "code",
   "execution_count": 28,
   "metadata": {},
   "outputs": [
    {
     "data": {
      "application/vnd.jupyter.widget-view+json": {
       "model_id": "e2d31ed05c5143e7b93d1dca054d9700",
       "version_major": 2,
       "version_minor": 0
      },
      "text/plain": [
       "  0%|          | 0/1025 [00:00<?, ?it/s]"
      ]
     },
     "metadata": {},
     "output_type": "display_data"
    }
   ],
   "source": [
    "# Load the data from the raw files, remove the see also, references, external links and notes sections. Then save it in data/bronze\n",
    "for file in tqdm(os.listdir(\"data/raw/\")):\n",
    "    with open(f\"data/raw/{file}\", \"r\") as f:\n",
    "        text = f.read()\n",
    "\n",
    "    # Remove the see also, references, external links and notes sections\n",
    "    text = text.split(\"See also\")[0]\n",
    "    text = text.split(\"References\")[0]\n",
    "    text = text.split(\"External links\")[0]\n",
    "    text = text.split(\"Notes \")[0]\n",
    "\n",
    "    with open(f\"data/bronze/{file}\", \"w\") as f:\n",
    "        f.write(text)"
   ]
  },
  {
   "cell_type": "markdown",
   "metadata": {},
   "source": [
    "## Silver Data\n",
    "\n",
    "We will create a json file containing the title and the text of the article. This will be easier to work with."
   ]
  },
  {
   "cell_type": "code",
   "execution_count": 29,
   "metadata": {},
   "outputs": [
    {
     "data": {
      "application/vnd.jupyter.widget-view+json": {
       "model_id": "c3a3a4c5f41c4c1098ce13fac44222d1",
       "version_major": 2,
       "version_minor": 0
      },
      "text/plain": [
       "  0%|          | 0/1025 [00:00<?, ?it/s]"
      ]
     },
     "metadata": {},
     "output_type": "display_data"
    }
   ],
   "source": [
    "# Load the text of all the pages in data/bronze and store it in a json file in data/silver\n",
    "data = {}\n",
    "for file in tqdm(os.listdir(\"data/bronze\")):\n",
    "    with open(f\"data/bronze/{file}\", \"r\") as f:\n",
    "        data[file] = f.read()\n",
    "\n",
    "with open(\"data/silver/data.json\", \"w\") as f:\n",
    "    json.dump(data, f)"
   ]
  },
  {
   "cell_type": "markdown",
   "metadata": {},
   "source": [
    "The gold data will be generated in the embedding model notebook."
   ]
  }
 ],
 "metadata": {
  "kernelspec": {
   "display_name": "nlp",
   "language": "python",
   "name": "python3"
  },
  "language_info": {
   "codemirror_mode": {
    "name": "ipython",
    "version": 3
   },
   "file_extension": ".py",
   "mimetype": "text/x-python",
   "name": "python",
   "nbconvert_exporter": "python",
   "pygments_lexer": "ipython3",
   "version": "3.11.5"
  }
 },
 "nbformat": 4,
 "nbformat_minor": 2
}
