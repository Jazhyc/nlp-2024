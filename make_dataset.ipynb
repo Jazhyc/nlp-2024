{
 "cells": [
  {
   "cell_type": "code",
   "execution_count": 24,
   "metadata": {},
   "outputs": [],
   "source": [
    "import wikipediaapi as wiki\n",
    "from tqdm.notebook import tqdm\n",
    "import os\n",
    "import json"
   ]
  },
  {
   "cell_type": "code",
   "execution_count": 3,
   "metadata": {},
   "outputs": [],
   "source": [
    "wiki_wiki = wiki.Wikipedia(\"RUG NLP Q&A\", 'en')"
   ]
  },
  {
   "cell_type": "code",
   "execution_count": 15,
   "metadata": {},
   "outputs": [],
   "source": [
    "# Get all pages mentioned in this url https://en.wikipedia.org/wiki/Wikipedia:Popular_pages\n",
    "popular_pages = wiki_wiki.page(\"Wikipedia:Popular_pages\")\n",
    "popular_pages_links = popular_pages.links"
   ]
  },
  {
   "cell_type": "code",
   "execution_count": 23,
   "metadata": {},
   "outputs": [
    {
     "data": {
      "application/vnd.jupyter.widget-view+json": {
       "model_id": "801479b76d0345238bfcba3e85192d3c",
       "version_major": 2,
       "version_minor": 0
      },
      "text/plain": [
       "  0%|          | 0/1079 [00:00<?, ?it/s]"
      ]
     },
     "metadata": {},
     "output_type": "display_data"
    }
   ],
   "source": [
    "# Get the text of all the pages as specified in the links above\n",
    "# Save the text in a file with the name of the page as the file name, save it in data/raw\n",
    "for page in tqdm(popular_pages_links):\n",
    "    page = wiki_wiki.page(page)\n",
    "\n",
    "    # If the file already exists, skip it\n",
    "    if os.path.exists(f\"data/raw/{page.title}.txt\"):\n",
    "        continue\n",
    "    \n",
    "    # Account for pages with / in their name by replacing it with _\n",
    "    file_name = page.title.replace(\"/\", \"_\")\n",
    "\n",
    "    # replace ? with _ in the file name\n",
    "    file_name = file_name.replace(\"?\", \"_\")\n",
    "\n",
    "    with open(f\"data/raw/{file_name}.txt\", \"w\") as f:\n",
    "        f.write(page.text)\n"
   ]
  },
  {
   "cell_type": "code",
   "execution_count": 26,
   "metadata": {},
   "outputs": [
    {
     "data": {
      "application/vnd.jupyter.widget-view+json": {
       "model_id": "3f302f0c574146b1b89b6110ac9f0661",
       "version_major": 2,
       "version_minor": 0
      },
      "text/plain": [
       "  0%|          | 0/1025 [00:00<?, ?it/s]"
      ]
     },
     "metadata": {},
     "output_type": "display_data"
    }
   ],
   "source": [
    "# Load the text of all the pages in data/raw and store it in a json file in data/bronze\n",
    "data = {}\n",
    "for file in tqdm(os.listdir(\"data/raw\")):\n",
    "    with open(f\"data/raw/{file}\", \"r\") as f:\n",
    "        data[file] = f.read()\n",
    "\n",
    "with open(\"data/bronze/data.json\", \"w\") as f:\n",
    "    json.dump(data, f)"
   ]
  }
 ],
 "metadata": {
  "kernelspec": {
   "display_name": "nlp",
   "language": "python",
   "name": "python3"
  },
  "language_info": {
   "codemirror_mode": {
    "name": "ipython",
    "version": 3
   },
   "file_extension": ".py",
   "mimetype": "text/x-python",
   "name": "python",
   "nbconvert_exporter": "python",
   "pygments_lexer": "ipython3",
   "version": "3.11.5"
  }
 },
 "nbformat": 4,
 "nbformat_minor": 2
}
