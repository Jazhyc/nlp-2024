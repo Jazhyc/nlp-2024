{
 "cells": [
  {
   "cell_type": "code",
   "execution_count": 29,
   "metadata": {},
   "outputs": [],
   "source": [
    "import gdown\n",
    "import zipfile\n",
    "import os\n",
    "\n",
    "import faiss\n",
    "import datasets"
   ]
  },
  {
   "cell_type": "code",
   "execution_count": 27,
   "metadata": {},
   "outputs": [
    {
     "name": "stdout",
     "output_type": "stream",
     "text": [
      "File already exists\n"
     ]
    }
   ],
   "source": [
    "url = \"https://drive.google.com/uc?id=18xMA2wGPDXArwLyVWN3HXQaF0XnjtugF\"\n",
    "filepath = \"data/gold\"\n",
    "\n",
    "# Check if index exists\n",
    "if os.path.isfile(filepath + \"/index.faiss\"):\n",
    "    print(\"File already exists\")\n",
    "else:\n",
    "    \n",
    "    # Download zip file using gdown\n",
    "    gdown.download(url, \"index.zip\", quiet=False)\n",
    "\n",
    "    # Create directory if it doesn't exist\n",
    "    if not os.path.exists(filepath):\n",
    "        os.makedirs(filepath)\n",
    "\n",
    "    # Unzip file\n",
    "    with zipfile.ZipFile(\"index.zip\", 'r') as zip_ref:\n",
    "        zip_ref.extractall(filepath)\n",
    "\n",
    "    # Remove zip file\n",
    "    os.remove(\"index.zip\")"
   ]
  },
  {
   "cell_type": "code",
   "execution_count": 38,
   "metadata": {},
   "outputs": [],
   "source": [
    "# Load index\n",
    "dataset = datasets.load_from_disk(\"data/gold/dataset\")\n",
    "\n",
    "# drop embeddings if they exist\n",
    "if \"embeddings\" in dataset.column_names:\n",
    "    dataset = dataset.remove_columns(\"embeddings\")\n",
    "\n",
    "dataset.load_faiss_index(\"embeddings\", filepath + \"/index.faiss\")"
   ]
  }
 ],
 "metadata": {
  "kernelspec": {
   "display_name": "nlp",
   "language": "python",
   "name": "python3"
  },
  "language_info": {
   "codemirror_mode": {
    "name": "ipython",
    "version": 3
   },
   "file_extension": ".py",
   "mimetype": "text/x-python",
   "name": "python",
   "nbconvert_exporter": "python",
   "pygments_lexer": "ipython3",
   "version": "3.11.5"
  }
 },
 "nbformat": 4,
 "nbformat_minor": 2
}
