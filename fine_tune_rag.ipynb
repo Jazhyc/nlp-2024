{
 "cells": [
  {
   "cell_type": "code",
   "execution_count": 44,
   "metadata": {},
   "outputs": [],
   "source": [
    "import gdown\n",
    "import zipfile\n",
    "import os\n",
    "import faiss\n",
    "import datasets\n",
    "\n",
    "from transformers import AutoTokenizer, RagRetriever, RagSequenceForGeneration, RagConfig, AutoConfig, AutoModel"
   ]
  },
  {
   "cell_type": "markdown",
   "metadata": {},
   "source": [
    "## Loading the Dataset"
   ]
  },
  {
   "cell_type": "code",
   "execution_count": 2,
   "metadata": {},
   "outputs": [
    {
     "name": "stdout",
     "output_type": "stream",
     "text": [
      "File already exists\n"
     ]
    }
   ],
   "source": [
    "url = \"https://drive.google.com/uc?id=18xMA2wGPDXArwLyVWN3HXQaF0XnjtugF\"\n",
    "filepath = \"data/gold\"\n",
    "\n",
    "# Check if index exists\n",
    "if os.path.isfile(filepath + \"/index.faiss\"):\n",
    "    print(\"File already exists\")\n",
    "else:\n",
    "    \n",
    "    # Download zip file using gdown\n",
    "    gdown.download(url, \"index.zip\", quiet=False)\n",
    "\n",
    "    # Create directory if it doesn't exist\n",
    "    if not os.path.exists(filepath):\n",
    "        os.makedirs(filepath)\n",
    "\n",
    "    # Unzip file\n",
    "    with zipfile.ZipFile(\"index.zip\", 'r') as zip_ref:\n",
    "        zip_ref.extractall(filepath)\n",
    "\n",
    "    # Remove zip file\n",
    "    os.remove(\"index.zip\")"
   ]
  },
  {
   "cell_type": "code",
   "execution_count": 3,
   "metadata": {},
   "outputs": [],
   "source": [
    "# Load index\n",
    "dataset = datasets.load_from_disk(\"data/gold/dataset\")\n",
    "\n",
    "dataset.load_faiss_index(\"embeddings\", filepath + \"/index.faiss\")"
   ]
  },
  {
   "cell_type": "markdown",
   "metadata": {},
   "source": [
    "## Creating the Model"
   ]
  },
  {
   "cell_type": "code",
   "execution_count": 41,
   "metadata": {},
   "outputs": [],
   "source": [
    "model_name = \"sentence-transformers/paraphrase-albert-base-v2\"\n",
    "model_type = \"albert\"\n",
    "model_config = AutoConfig.from_pretrained(model_name)\n",
    "\n",
    "rag_config = RagConfig(\n",
    "    question_encoder={\n",
    "        \"model_type\": model_type,\n",
    "        \"config\": model_config,\n",
    "    },\n",
    "    generator = {\n",
    "        \"model_type\": model_type,\n",
    "        \"config\": model_config\n",
    "    },\n",
    "    index_name=\"custom\",\n",
    "    passages_path=filepath + \"/dataset\",\n",
    "    index_path=filepath + \"/index.faiss\",\n",
    ")"
   ]
  },
  {
   "cell_type": "code",
   "execution_count": 43,
   "metadata": {},
   "outputs": [],
   "source": [
    "retriever = RagRetriever(\n",
    "    config=rag_config,\n",
    "    question_encoder_tokenizer = AutoTokenizer.from_pretrained(model_name),\n",
    "    generator_tokenizer = AutoTokenizer.from_pretrained(model_name),\n",
    ")"
   ]
  },
  {
   "cell_type": "code",
   "execution_count": 45,
   "metadata": {},
   "outputs": [],
   "source": [
    "rag_model = RagSequenceForGeneration(\n",
    "    config=rag_config,\n",
    "    retriever=retriever,\n",
    "    question_encoder=AutoModel.from_pretrained(model_name),\n",
    "    generator=AutoModel.from_pretrained(model_name),\n",
    ")"
   ]
  },
  {
   "cell_type": "code",
   "execution_count": 46,
   "metadata": {},
   "outputs": [
    {
     "ename": "AssertionError",
     "evalue": " At least one of input_ids or context_input_ids must be given",
     "output_type": "error",
     "traceback": [
      "\u001b[1;31m---------------------------------------------------------------------------\u001b[0m",
      "\u001b[1;31mAssertionError\u001b[0m                            Traceback (most recent call last)",
      "Cell \u001b[1;32mIn[46], line 10\u001b[0m\n\u001b[0;32m      3\u001b[0m output_text \u001b[38;5;241m=\u001b[39m \u001b[38;5;124m\"\u001b[39m\u001b[38;5;124mThe capital of France is Paris.\u001b[39m\u001b[38;5;124m\"\u001b[39m\n\u001b[0;32m      5\u001b[0m rag_input \u001b[38;5;241m=\u001b[39m {\n\u001b[0;32m      6\u001b[0m     \u001b[38;5;124m\"\u001b[39m\u001b[38;5;124mquery\u001b[39m\u001b[38;5;124m\"\u001b[39m: input_text,\n\u001b[0;32m      7\u001b[0m     \u001b[38;5;124m\"\u001b[39m\u001b[38;5;124mcontext\u001b[39m\u001b[38;5;124m\"\u001b[39m: output_text\n\u001b[0;32m      8\u001b[0m }\n\u001b[1;32m---> 10\u001b[0m rag_output \u001b[38;5;241m=\u001b[39m \u001b[43mrag_model\u001b[49m\u001b[38;5;241;43m.\u001b[39;49m\u001b[43mgenerate\u001b[49m\u001b[43m(\u001b[49m\u001b[38;5;241;43m*\u001b[39;49m\u001b[38;5;241;43m*\u001b[39;49m\u001b[43mrag_input\u001b[49m\u001b[43m)\u001b[49m\n\u001b[0;32m     11\u001b[0m \u001b[38;5;28mprint\u001b[39m(rag_output)\n",
      "File \u001b[1;32mc:\\Users\\User\\.conda\\envs\\nlp\\Lib\\site-packages\\torch\\utils\\_contextlib.py:115\u001b[0m, in \u001b[0;36mcontext_decorator.<locals>.decorate_context\u001b[1;34m(*args, **kwargs)\u001b[0m\n\u001b[0;32m    112\u001b[0m \u001b[38;5;129m@functools\u001b[39m\u001b[38;5;241m.\u001b[39mwraps(func)\n\u001b[0;32m    113\u001b[0m \u001b[38;5;28;01mdef\u001b[39;00m \u001b[38;5;21mdecorate_context\u001b[39m(\u001b[38;5;241m*\u001b[39margs, \u001b[38;5;241m*\u001b[39m\u001b[38;5;241m*\u001b[39mkwargs):\n\u001b[0;32m    114\u001b[0m     \u001b[38;5;28;01mwith\u001b[39;00m ctx_factory():\n\u001b[1;32m--> 115\u001b[0m         \u001b[38;5;28;01mreturn\u001b[39;00m \u001b[43mfunc\u001b[49m\u001b[43m(\u001b[49m\u001b[38;5;241;43m*\u001b[39;49m\u001b[43margs\u001b[49m\u001b[43m,\u001b[49m\u001b[43m \u001b[49m\u001b[38;5;241;43m*\u001b[39;49m\u001b[38;5;241;43m*\u001b[39;49m\u001b[43mkwargs\u001b[49m\u001b[43m)\u001b[49m\n",
      "File \u001b[1;32mc:\\Users\\User\\.conda\\envs\\nlp\\Lib\\site-packages\\transformers\\models\\rag\\modeling_rag.py:975\u001b[0m, in \u001b[0;36mRagSequenceForGeneration.generate\u001b[1;34m(self, input_ids, attention_mask, context_input_ids, context_attention_mask, doc_scores, do_deduplication, num_return_sequences, num_beams, n_docs, **model_kwargs)\u001b[0m\n\u001b[0;32m    969\u001b[0m num_doc_return_sequences \u001b[38;5;241m=\u001b[39m (\n\u001b[0;32m    970\u001b[0m     num_return_sequences \u001b[38;5;28;01mif\u001b[39;00m num_return_sequences \u001b[38;5;129;01mis\u001b[39;00m \u001b[38;5;129;01mnot\u001b[39;00m \u001b[38;5;28;01mNone\u001b[39;00m \u001b[38;5;28;01melse\u001b[39;00m \u001b[38;5;28mself\u001b[39m\u001b[38;5;241m.\u001b[39mconfig\u001b[38;5;241m.\u001b[39mnum_return_sequences\n\u001b[0;32m    971\u001b[0m )\n\u001b[0;32m    972\u001b[0m num_beams \u001b[38;5;241m=\u001b[39m num_beams \u001b[38;5;28;01mif\u001b[39;00m num_beams \u001b[38;5;129;01mis\u001b[39;00m \u001b[38;5;129;01mnot\u001b[39;00m \u001b[38;5;28;01mNone\u001b[39;00m \u001b[38;5;28;01melse\u001b[39;00m \u001b[38;5;28mself\u001b[39m\u001b[38;5;241m.\u001b[39mconfig\u001b[38;5;241m.\u001b[39mnum_beams\n\u001b[0;32m    974\u001b[0m \u001b[38;5;28;01massert\u001b[39;00m (\n\u001b[1;32m--> 975\u001b[0m     input_ids \u001b[38;5;129;01mis\u001b[39;00m \u001b[38;5;129;01mnot\u001b[39;00m \u001b[38;5;28;01mNone\u001b[39;00m \u001b[38;5;129;01mor\u001b[39;00m context_input_ids \u001b[38;5;129;01mis\u001b[39;00m \u001b[38;5;129;01mnot\u001b[39;00m \u001b[38;5;28;01mNone\u001b[39;00m\n\u001b[0;32m    976\u001b[0m ), \u001b[38;5;124m\"\u001b[39m\u001b[38;5;124m At least one of input_ids or context_input_ids must be given\u001b[39m\u001b[38;5;124m\"\u001b[39m\n\u001b[0;32m    978\u001b[0m \u001b[38;5;28;01mif\u001b[39;00m \u001b[38;5;28mself\u001b[39m\u001b[38;5;241m.\u001b[39mretriever \u001b[38;5;129;01mis\u001b[39;00m \u001b[38;5;129;01mnot\u001b[39;00m \u001b[38;5;28;01mNone\u001b[39;00m \u001b[38;5;129;01mand\u001b[39;00m context_input_ids \u001b[38;5;129;01mis\u001b[39;00m \u001b[38;5;28;01mNone\u001b[39;00m:\n\u001b[0;32m    979\u001b[0m     question_hidden_states \u001b[38;5;241m=\u001b[39m \u001b[38;5;28mself\u001b[39m\u001b[38;5;241m.\u001b[39mquestion_encoder(input_ids, attention_mask\u001b[38;5;241m=\u001b[39mattention_mask)[\u001b[38;5;241m0\u001b[39m]\n",
      "\u001b[1;31mAssertionError\u001b[0m:  At least one of input_ids or context_input_ids must be given"
     ]
    }
   ],
   "source": [
    "# Test model\n",
    "input_text = \"What is the capital of France?\"\n",
    "output_text = \"The capital of France is Paris.\""
   ]
  }
 ],
 "metadata": {
  "kernelspec": {
   "display_name": "nlp",
   "language": "python",
   "name": "python3"
  },
  "language_info": {
   "codemirror_mode": {
    "name": "ipython",
    "version": 3
   },
   "file_extension": ".py",
   "mimetype": "text/x-python",
   "name": "python",
   "nbconvert_exporter": "python",
   "pygments_lexer": "ipython3",
   "version": "3.11.5"
  }
 },
 "nbformat": 4,
 "nbformat_minor": 2
}
