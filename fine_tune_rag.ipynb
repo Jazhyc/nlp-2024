{
 "cells": [
  {
   "cell_type": "code",
   "execution_count": 1,
   "metadata": {},
   "outputs": [],
   "source": [
    "import gdown\n",
    "import os"
   ]
  },
  {
   "cell_type": "code",
   "execution_count": 4,
   "metadata": {},
   "outputs": [
    {
     "name": "stdout",
     "output_type": "stream",
     "text": [
      "File already exists\n"
     ]
    }
   ],
   "source": [
    "url = \"https://drive.google.com/uc?id=1tU1ALLDAIBmuRNIoU1kYmKapFDX6LJD1\"\n",
    "output = \"data/gold/index.faiss\"\n",
    "\n",
    "# Check if index exists\n",
    "if os.path.isfile(output):\n",
    "    print(\"File already exists\")\n",
    "else:\n",
    "    # Create the folder if it doesn't exist\n",
    "    os.makedirs(os.path.dirname(output), exist_ok=True)\n",
    "\n",
    "    gdown.download(url, output, quiet=False)\n",
    "    print(\"Downloaded file\")"
   ]
  }
 ],
 "metadata": {
  "kernelspec": {
   "display_name": "nlp",
   "language": "python",
   "name": "python3"
  },
  "language_info": {
   "codemirror_mode": {
    "name": "ipython",
    "version": 3
   },
   "file_extension": ".py",
   "mimetype": "text/x-python",
   "name": "python",
   "nbconvert_exporter": "python",
   "pygments_lexer": "ipython3",
   "version": "3.11.5"
  }
 },
 "nbformat": 4,
 "nbformat_minor": 2
}
